{
 "cells": [
  {
   "cell_type": "markdown",
   "id": "9da99ad1",
   "metadata": {},
   "source": [
    "# Stationary & incompressible Stokes flow between two plates\n",
    "***"
   ]
  },
  {
   "cell_type": "markdown",
   "id": "57965573",
   "metadata": {},
   "source": [
    "## Introduction\n",
    "Stokes equations describe a Newtonian fluid for very small Reynolds number\n",
    "\n",
    "$$\\mathrm{Re} = \\frac{\\rho L_\\mathrm{char} U_\\mathrm{char}}{\\mu},$$\n",
    "\n",
    "where $L_\\mathrm{char}$ and $U_\\mathrm{char}$ are characteristic length and speed, $\\mu$ is dynamic viscosity and $\\rho$ is density. Stokes equations are suitable for mesoscopic problems and for fluids with high viscosity,  like syrups and molasses. The strong formulation of stationary and incompressible Stokes flow reads\n",
    "\n",
    "$$ \\nabla \\cdot \\mathbf{u} = 0 $$\n",
    "$$ -\\nabla p + \\mu \\Delta \\mathbf{u} = \\mathbf{0}.$$\n",
    "\n",
    "The system has unkowns $\\mathbf{u}$ (velocity) and $p$ (pressure). \n",
    "\n",
    "As an educational example, consider two-dimensional flow between two parallel plates separated by distance $2R$. At the inflow (left), there is a rather strange velocity profile described by a quintic polynomial\n",
    "\n",
    "$$ \\mathbf{u}(x,y) = \\frac{5}{8} \\left(1 - \\frac{y}{R} \\right) \\left( 1 + \\frac{y}{R} \\right)^4 \\, \\hat{\\mathbf{x}}, \\quad (x,y) \\in \\Gamma_\\mathrm{in}.$$\n",
    "\n",
    "Let there be no slip on the surface of plates (top and bottom)\n",
    "\n",
    "$$ \\mathbf{u}(x,y) = \\mathbf{0}, \\quad (x,y) \\in \\Gamma_\\mathrm{wall}$$\n",
    "\n",
    "and outlfow condition (right)\n",
    "\n",
    "$$ (-p \\mathbb{I} + \\mu \\nabla \\mathbf{u}) \\mathbf{n} = \\mathbf{0}, \\quad (x,y) \\in \\Gamma_\\mathrm{out}.$$\n",
    "\n",
    "What kind of velocity profile will be at the outflow?\n",
    "\n",
    "![Geometry](fig/plates.svg \"Geometry\")"
   ]
  },
  {
   "cell_type": "markdown",
   "id": "10afd26e",
   "metadata": {},
   "source": [
    "## Weak formulation\n",
    "\n",
    "First, we multiply by a pair of test functions $\\mathbf{v}, q$ and integrate\n",
    "$$ \\int_\\Omega q \\nabla \\cdot \\mathbf{u} \\; \\mathrm{d}\\mathbf{x} = 0, $$\n",
    "$$ \\int_\\Omega (-\\mu \\Delta \\mathbf{u} + \\nabla p) \\cdot \\mathbf{v} \\; \\mathrm{d}\\mathbf{x} = 0. $$\n",
    "\n",
    "We impose that $\\mathbf{v}$ vanishes on both Dirichlet boundaries $\\Gamma_\\mathrm{in}$, $\\Gamma_\\mathrm{plates}$. In the next step, we integrate by parts in the second expression to remove second derivatives. By virtue of boundary conditions, no surface integrals appear in the process.\n",
    "\n",
    "$$ \\int_\\Omega q \\nabla \\cdot \\mathbf{u} \\; \\mathrm{d}\\mathbf{x} = 0, $$\n",
    "$$ \\int_\\Omega \\left( \\mu \\nabla \\mathbf{u} \\cdot \\nabla \\mathbf{v} - p \\nabla \\cdot \\mathbf{v} \\right) \\; \\mathrm{d}\\mathbf{x} = 0. $$\n",
    "\n",
    "The equations can be added together to obtain a nicely symmetrical form:\n",
    "\n",
    "$$ \\int_\\Omega \\left( \\mu \\nabla \\mathbf{u} \\cdot \\nabla \\mathbf{v} - p \\nabla \\cdot \\mathbf{v} - q \\nabla \\cdot \\mathbf{u} \\right) \\; \\mathrm{d}\\mathbf{x} = 0. $$\n",
    "\n",
    "Compared to the strong formulation (four scalar equations for every point of $\\Omega$) it may seem we lost information. However, this is not true because the functions $q, \\mathbf{v}$ were arbitrary (up to the bounary condition imposed and certain integrability assumptions). The finite element method samples $\\Omega$ into mesh and replaces $\\mathbf{u}, p, \\mathbf{v}, q$ with piece-wise polynomial approximations. This leads to a linear system of $N$ equations (for every degree of freedom that *test functions* $\\mathbf{v}, q$ have) and $N$ unknowns (for every degree of freedom that *trial functions* $\\mathbf{u}, p$ have).\n",
    "\n",
    "We know how to solve linear systems but calculating it on paper would be a nightmare. It is better to ask FEniCS to do the dirty job."
   ]
  },
  {
   "cell_type": "markdown",
   "id": "3be5959b",
   "metadata": {},
   "source": [
    "## FEniCS implementation"
   ]
  },
  {
   "cell_type": "markdown",
   "id": "b414b9f7",
   "metadata": {},
   "source": [
    "Import **dolfin** (FEniCS backend), **matplotlib.pyplot** (for plots), **numpy** (for arrays) and **time** (for benchmarking)."
   ]
  },
  {
   "cell_type": "code",
   "execution_count": null,
   "id": "fed90f77",
   "metadata": {},
   "outputs": [],
   "source": [
    "from dolfin import *\n",
    "import matplotlib.pyplot as plt\n",
    "import numpy as np\n",
    "from time import time"
   ]
  },
  {
   "cell_type": "markdown",
   "id": "3a2bd314",
   "metadata": {},
   "source": [
    "Create mesh."
   ]
  },
  {
   "cell_type": "code",
   "execution_count": null,
   "id": "1e5c5ccb",
   "metadata": {
    "scrolled": true
   },
   "outputs": [],
   "source": [
    "R = 0.5    # half of distance between plates\n",
    "L = 2.0    # length\n",
    "n_x = 40   # x-resolution\n",
    "n_y = 20   # y-resolution\n",
    "mesh = RectangleMesh(Point(0, -R), Point(L, R), n_x, n_y)\n",
    "\n",
    "plot(mesh)\n",
    "plt.show()"
   ]
  },
  {
   "cell_type": "markdown",
   "id": "bce609a8",
   "metadata": {},
   "source": [
    "Identify boundaries."
   ]
  },
  {
   "cell_type": "code",
   "execution_count": null,
   "id": "00772fbb",
   "metadata": {},
   "outputs": [],
   "source": [
    "# define boundary as a class\n",
    "class Inflow(SubDomain):\n",
    "    def inside(self, x, on_boundary):\n",
    "        return on_boundary and near(x[0], 0.0)\n",
    "\n",
    "inflow = Inflow()\n",
    "\n",
    "# or with AutoSubDomain\n",
    "outflow = AutoSubDomain(lambda x, on_boundary: on_boundary and near(x[0], L))\n",
    "walls = AutoSubDomain(lambda x, on_boundary: on_boundary and near(abs(x[1]), R))\n",
    "\n",
    "# mark boundary parts\n",
    "bdary = MeshFunction('size_t', mesh, mesh.topology().dim()-1, 0)\n",
    "inflow.mark(bdary, 1)\n",
    "outflow.mark(bdary, 2)\n",
    "walls.mark(bdary, 3)"
   ]
  },
  {
   "cell_type": "markdown",
   "id": "2e555da1",
   "metadata": {},
   "source": [
    "Define mixed function space for pressure and velocity. (In this example, we will use Taylor-Hood elements, which are quadratic in velocity and linear in pressure. There is a deep reason for having extra degrees of freedom in velocity. Mixed spaces with identical finite elements for $u$ a $p$ usually fail as they do not satisfy [Babuška-Brezzi condition](https://en.wikipedia.org/wiki/Ladyzhenskaya%E2%80%93Babu%C5%A1ka%E2%80%93Brezzi_condition).)"
   ]
  },
  {
   "cell_type": "code",
   "execution_count": null,
   "id": "0ae9986f",
   "metadata": {},
   "outputs": [],
   "source": [
    "Ev = VectorElement(\"CG\", mesh.ufl_cell(), 2) # 2 = quadratic elements\n",
    "Ep = FiniteElement(\"CG\", mesh.ufl_cell(), 1) # 1 = linear elements\n",
    "E = MixedElement([Ev, Ep]) # Taylor-Hood mixed element\n",
    "W = FunctionSpace(mesh, E)"
   ]
  },
  {
   "cell_type": "markdown",
   "id": "870e69de",
   "metadata": {},
   "source": [
    "Declare boundary conditions."
   ]
  },
  {
   "cell_type": "code",
   "execution_count": null,
   "id": "91688f51",
   "metadata": {},
   "outputs": [],
   "source": [
    "v_wall = Constant((0.0, 0.0))\n",
    "v_inflow = Expression((\"5.0/8.0*(1.0 - x[1]/R)*pow(1.0 + x[1]/R, 4)\", \"0\"), degree = 2, R = R) \n",
    "bc_wall = DirichletBC(W.sub(0), v_wall, bdary, 3)\n",
    "bc_inflow = DirichletBC(W.sub(0), v_inflow, bdary, 1)\n",
    "bc = [bc_inflow, bc_wall]"
   ]
  },
  {
   "cell_type": "markdown",
   "id": "ea6b7bcd",
   "metadata": {},
   "source": [
    "Write variational formulation."
   ]
  },
  {
   "cell_type": "code",
   "execution_count": null,
   "id": "0a75922b",
   "metadata": {},
   "outputs": [],
   "source": [
    "mu = Constant(1.0)  # dynamic viscosity\n",
    "f = Constant((0.0, 0.0)) # external force\n",
    "u, p = TrialFunctions(W)\n",
    "v, q = TestFunctions(W)\n",
    "a = mu*inner(grad(u), grad(v))*dx - p*div(v)*dx - q*div(u)*dx\n",
    "b = inner(f,v)*dx"
   ]
  },
  {
   "cell_type": "markdown",
   "id": "53f83c2b",
   "metadata": {},
   "source": [
    "Plot sparsity pattern of the linear system. (The matrix is symmetric and sparse like in Poisson problem. However, closer inspection reveals that some diagonal elements are zero. This indicates that the matrix cannot be positive-definite. In fact, it is an example of a *saddle-point* matrix with both positive and negative eigenvalues.)"
   ]
  },
  {
   "cell_type": "code",
   "execution_count": null,
   "id": "07af2087",
   "metadata": {},
   "outputs": [],
   "source": [
    "A, _ = assemble_system(a, b, bc)\n",
    "A = A.array()\n",
    "\n",
    "fig, (ax1, ax2) = plt.subplots(1, 2)\n",
    "ax1.spy(A)\n",
    "ax2.spy(A[1:20,1:20])\n",
    "plt.show()"
   ]
  },
  {
   "cell_type": "markdown",
   "id": "3988c122",
   "metadata": {},
   "source": [
    "Solve the linear problem using *mumps* direct sparse linear solver."
   ]
  },
  {
   "cell_type": "code",
   "execution_count": null,
   "id": "468a7767",
   "metadata": {},
   "outputs": [],
   "source": [
    "w = Function(W)\n",
    "problem = LinearVariationalProblem(a, b, w, bc)\n",
    "solver = LinearVariationalSolver(problem)\n",
    "solver.parameters['linear_solver'] = 'mumps'\n",
    "\n",
    "tick0 = time()\n",
    "solver.solve()\n",
    "tick1 = time()\n",
    "print(\"elapsed = \", tick1 - tick0)"
   ]
  },
  {
   "cell_type": "markdown",
   "id": "e11b2cbc",
   "metadata": {},
   "source": [
    "Show results with pyplot."
   ]
  },
  {
   "cell_type": "code",
   "execution_count": null,
   "id": "555eb950",
   "metadata": {},
   "outputs": [],
   "source": [
    "u, p = w.split()\n",
    "u.rename(\"u\", \"velocity\")\n",
    "p.rename(\"p\", \"pressure\")\n",
    "\n",
    "for unknown in u[0], u[1], p:\n",
    "    print(\"Plot of\", unknown, \"\\n\")\n",
    "    figure = plot(unknown, cmap=plt.cm.jet)\n",
    "    plt.colorbar(figure, location='bottom')\n",
    "    plt.show()"
   ]
  },
  {
   "cell_type": "markdown",
   "id": "81d7a6da",
   "metadata": {},
   "source": [
    "Plot velocity profile at the ouflow. Compare it to a parabolic profile (Poiseuille flow)."
   ]
  },
  {
   "cell_type": "code",
   "execution_count": null,
   "id": "e318192c",
   "metadata": {
    "scrolled": true
   },
   "outputs": [],
   "source": [
    "Y = np.linspace(-0.5, 0.5)\n",
    "U_num = [u(L, y)[0] for y in Y]\n",
    "U_max = max(U_num)\n",
    "U_poi = [U_max*(1.0 - (y/R)**2) for y in Y]\n",
    "plt.plot(Y, U_num, label='NUMERICAL')\n",
    "plt.scatter(Y, U_poi, label='POISEUILLE', color='orange')\n",
    "plt.legend()\n",
    "plt.show()"
   ]
  },
  {
   "cell_type": "markdown",
   "id": "3f3bddcf",
   "metadata": {},
   "source": [
    "## Exercises \n",
    "1) In the definition of `v_inflow`, why is there `5.0/8.0` and not `5/8`?\n",
    "2) Can we prevent the emergence of Poiseuille flow by making $\\mu$ very small or inflow speed very large?\n",
    "3) Can we use conjugate gradient method to solve the algebraic system?\n",
    "4) Try mixed elements other than Tayler-Hood from the list below. (Spoiler: the first  two will not work very well.)\n",
    "    * CG 1 for velocity, CG 1 for pressure\n",
    "    * CG 2 for velocity, CG 2 for pressure\n",
    "    * CG 2 for velocity, DG 0 for pressure (DG stands for Discontinuous Galerkin)\n",
    "    * CR 1 for velocity, DG 0 for pressure (CR stands for Crouzeix-Raviart)\n",
    "5) Experiment with different inflow conditions and non-zero external forces."
   ]
  },
  {
   "cell_type": "markdown",
   "id": "8d5d886d",
   "metadata": {},
   "source": [
    "## Complete code"
   ]
  },
  {
   "cell_type": "code",
   "execution_count": null,
   "id": "b7ff850c",
   "metadata": {},
   "outputs": [],
   "source": [
    "from dolfin import *\n",
    "import matplotlib.pyplot as plt\n",
    "import numpy as np\n",
    "from time import time\n",
    "\n",
    "\n",
    "# Create mesh.\n",
    "\n",
    "R = 0.5    # half of distance between plates\n",
    "L = 2.0    # length\n",
    "n_x = 40   # x-resolution\n",
    "n_y = 20   # y-resolution\n",
    "mesh = RectangleMesh(Point(0, -R), Point(L, R), n_x, n_y)\n",
    "\n",
    "plot(mesh)\n",
    "plt.show()\n",
    "\n",
    "\n",
    "# Identify boundaries.\n",
    "\n",
    "# define boundary as a class\n",
    "class Inflow(SubDomain):\n",
    "    def inside(self, x, on_boundary):\n",
    "        return on_boundary and near(x[0], 0.0)\n",
    "\n",
    "inflow = Inflow()\n",
    "\n",
    "# or with AutoSubDomain\n",
    "outflow = AutoSubDomain(lambda x, on_boundary: on_boundary and near(x[0], L))\n",
    "walls = AutoSubDomain(lambda x, on_boundary: on_boundary and near(abs(x[1]), R))\n",
    "\n",
    "# mark boundary parts\n",
    "bdary = MeshFunction('size_t', mesh, mesh.topology().dim()-1, 0)\n",
    "inflow.mark(bdary, 1)\n",
    "outflow.mark(bdary, 2)\n",
    "walls.mark(bdary, 3)\n",
    "\n",
    "\n",
    "# Define mixed function space for pressure and velocity.\n",
    "\n",
    "Ev = VectorElement(\"CG\", mesh.ufl_cell(), 2) # 2 = quadratic elements\n",
    "Ep = FiniteElement(\"CG\", mesh.ufl_cell(), 1) # 1 = linear elements\n",
    "E = MixedElement([Ev, Ep]) # Taylor-Hood mixed element\n",
    "W = FunctionSpace(mesh, E)\n",
    "\n",
    "\n",
    "# Declare boundary conditions.\n",
    "\n",
    "v_wall = Constant((0.0, 0.0))\n",
    "v_inflow = Expression((\"5.0/8.0*(1.0 - x[1]/R)*pow(1.0 + x[1]/R, 4)\", \"0\"), degree = 2, R = R) \n",
    "bc_wall = DirichletBC(W.sub(0), v_wall, bdary, 3)\n",
    "bc_inflow = DirichletBC(W.sub(0), v_inflow, bdary, 1)\n",
    "bc = [bc_inflow, bc_wall]\n",
    "\n",
    "\n",
    "# Write variational formulation.\n",
    "\n",
    "mu = Constant(1.0)  # dynamic viscosity\n",
    "f = Constant((0.0, 0.0)) # external force\n",
    "u, p = TrialFunctions(W)\n",
    "v, q = TestFunctions(W)\n",
    "a = mu*inner(grad(u), grad(v))*dx - p*div(v)*dx - q*div(u)*dx\n",
    "b = inner(f,v)*dx\n",
    "\n",
    "\n",
    "# Plot sparsity pattern of the linear system.\n",
    "\n",
    "A, _ = assemble_system(a, b, bc)\n",
    "A = A.array()\n",
    "\n",
    "fig, (ax1, ax2) = plt.subplots(1, 2)\n",
    "ax1.spy(A)\n",
    "ax2.spy(A[1:20,1:20])\n",
    "plt.show()\n",
    "\n",
    "\n",
    "# Solve the linear problem using *mumps* direct sparse linear solver.\n",
    "\n",
    "w = Function(W)\n",
    "problem = LinearVariationalProblem(a, b, w, bc)\n",
    "solver = LinearVariationalSolver(problem)\n",
    "solver.parameters['linear_solver'] = 'mumps'\n",
    "\n",
    "tick0 = time()\n",
    "solver.solve()\n",
    "tick1 = time()\n",
    "print(\"elapsed = \", tick1 - tick0)\n",
    "\n",
    "\n",
    "# Show results with pyplot.\n",
    "\n",
    "u, p = w.split()\n",
    "u.rename(\"u\", \"velocity\")\n",
    "p.rename(\"p\", \"pressure\")\n",
    "\n",
    "for unknown in u[0], u[1], p:\n",
    "    print(\"Plot of\", unknown, \"\\n\")\n",
    "    figure = plot(unknown, cmap=plt.cm.jet)\n",
    "    plt.colorbar(figure, location='bottom')\n",
    "    plt.show()\n",
    "\n",
    "\n",
    "# Plot velocity profile at the ouflow. Compare it to a parabolic profile (Poiseuille flow).\n",
    "\n",
    "Y = np.linspace(-0.5, 0.5)\n",
    "U_num = [u(L, y)[0] for y in Y]\n",
    "U_max = max(U_num)\n",
    "U_poi = [U_max*(1.0 - (y/R)**2) for y in Y]\n",
    "plt.plot(Y, U_num, label='NUMERICAL')\n",
    "plt.scatter(Y, U_poi, label='POISEUILLE', color='orange')\n",
    "plt.legend()\n",
    "plt.show()"
   ]
  }
 ],
 "metadata": {
  "kernelspec": {
   "display_name": "Python 3.10.6 64-bit",
   "language": "python",
   "name": "python3"
  },
  "language_info": {
   "codemirror_mode": {
    "name": "ipython",
    "version": 3
   },
   "file_extension": ".py",
   "mimetype": "text/x-python",
   "name": "python",
   "nbconvert_exporter": "python",
   "pygments_lexer": "ipython3",
   "version": "3.10.6"
  },
  "vscode": {
   "interpreter": {
    "hash": "916dbcbb3f70747c44a77c7bcd40155683ae19c65e1c03b4aa3499c5328201f1"
   }
  }
 },
 "nbformat": 4,
 "nbformat_minor": 5
}
