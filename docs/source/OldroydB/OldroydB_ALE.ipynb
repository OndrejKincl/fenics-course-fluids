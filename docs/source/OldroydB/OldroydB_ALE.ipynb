{
 "cells": [
  {
   "cell_type": "markdown",
   "id": "beeb2362",
   "metadata": {},
   "source": [
    "# Viscoelastic Oldroyd-B model -- rolling asphalt"
   ]
  },
  {
   "cell_type": "markdown",
   "id": "3833d42f",
   "metadata": {},
   "source": [
    "## Computation in the time varying domain\n",
    "We show how to solve problem in time varying domains. We transform the equations describing the viscoelastic Oldroyd-B model from Eulerian description where the domain deforms into\n",
    "a description with a fixed domain. In order to do this we add a new variable deformation\n",
    "$\\hat{\\mathbf{u}}$. The mapping $\\hat{\\varphi}$ maps fixed domain $\\Omega_{\\chi}$ into the deforming domain $\\Omega_{x}$, see the Figure below.<p>\n",
    "<div align=center>\n",
    "<img src=\"fig/deformation_domain.png\" width=\"750\"/>\n",
    "</div>\n",
    "\n",
    "There are two popular transformations:\n",
    "1. The fixed domain corresponds to the **Lagrangian description** where all points in the domain are material\n",
    "points and $\\mathbf{u}$ is the physical deformation.\n",
    "2. The so-called **arbitrary Lagrangian-Eulerian** (ALE) formulation where deformation $\\hat{\\mathbf{u}}$ is\n",
    "arbitrary with the restriction that the envelop of the deformed remains the same.\n",
    "\n",
    "\n",
    "### Lagrangian formulation\n",
    "The computational mesh is identified with the reference Lagrangian configuration, so the mapping $\\varphi$ is defined as\n",
    "\\begin{equation}\n",
    "\\varphi: X \\to x:= X+\\mathbf{u}.\n",
    "\\end{equation}\n",
    "We define the following kinematic quantities. The velocity $\\mathbf{v}$ \n",
    "\\begin{equation}\n",
    "\\mathbf{v}:=\\frac{\\partial \\varphi}{\\partial t}\\Big|_{X}=\\frac{\\partial\\mathbf{u}}{\\partial t},\n",
    "\\end{equation}\n",
    "the deformation gradient $\\mathbb{F}$ and its Jacobian $J$ by\n",
    "\\begin{equation}\n",
    "\\mathbb{F}:=\\frac{\\partial \\varphi}{\\partial X}=\\mathbb{I}+\\nabla_X\\mathbf{u},\\quad J=\\det\\mathbb{F}.\n",
    "\\end{equation}\n",
    "\n",
    "The aim to transform the weak form of the governing equations from $\\Omega_x$ to $\\Omega_X$\n",
    "\\begin{align*}\n",
    "&\\int_{\\Omega_x} \\mathrm{div}_x\\,\\mathbf{v} \\,  q\\; \\mathrm{d}\\mathbf{x} = 0,\\\\\n",
    "&\\int_{\\Omega_x} \\rho\\left(\\frac{\\partial\\mathbf{v}}{\\partial t}+\\mathbf{v}\\cdot\\nabla_x\\mathbf{v}\\right)\\cdot\\mathbf{q}\\; \\mathrm{d}\\mathbf{x} = \\int_{\\Omega_x} \\mathrm{div}_x \\mathbb{T}\\cdot \\mathbf{q}\\; \\mathrm{d}\\mathbf{x},\\\\\n",
    "&\\int_{\\Omega_x} \\left(\\frac{\\partial\\mathbb{B}}{\\partial t}+{\\bf v}\\cdot\\nabla_x\\mathbb{B}-(\\nabla{\\bf v})\\mathbb{B}-\\mathbb{B}(\\nabla{\\bf v})^{\\rm T}+\\frac{G}{\\mu_1}(\\mathbb{B}-\\mathbb{I})\\right)\\cdot\\mathbb{Q}=0,\n",
    "\\end{align*}\n",
    "\n",
    "First we check, how the spatial derivative transforms\n",
    "\\begin{equation}\n",
    "\\nabla_x\\mathbf{v}=\\frac{\\partial\\mathbf{v}(\\varphi(X, t), t)}{\\partial X} = \\frac{\\partial\\mathbf{v}}{\\partial\\mathbf{x}}\\frac{\\partial\\varphi}{\\partial X}=(\\nabla_x\\mathbf{v})\\mathbb{F} \\quad \\Rightarrow \\quad (\\nabla_x\\mathbf{v})=(\\nabla_X\\mathbf{v})\\mathbb{F}^{-1}.\n",
    "\\end{equation}\n",
    "Next, we check the material time derivative of scalar $s$\n",
    "\\begin{equation}\n",
    "\\frac{\\partial s}{\\partial t}\\Big|_X = \\frac{\\mathrm{d}s(\\varphi(X,t),t)}{\\mathrm{d}t}\\Big|_X=\\frac{\\partial s}{\\partial t}\\Big|_x+\\frac{\\partial s}{\\partial x}\\frac{\\partial \\varphi}{\\partial t}\\Big|_X=\\frac{\\partial s}{\\partial t}\\Big|_x+\\mathbf{v}\\cdot\\nabla_x s.\n",
    "\\end{equation}\n",
    "\n",
    "Finally, the integrals over $\\Omega_x$ are transformed to the integrals over $\\Omega_X$ using the integral substitution theorem. The Piola identity in the form\n",
    "\\begin{equation}\n",
    "\\mathrm{div}_X(J\\mathbb{F}^{-\\rm T})=0\n",
    "\\end{equation}\n",
    "is employed in the integral\n",
    "\\begin{align*}\n",
    "\\int_{\\Omega_x}\\mathrm{div}_x\\mathbb{T}\\cdot\\mathbf{q}\\;\\mathrm{d}\\mathbf{x}=\n",
    "\\int_{\\Omega_X}J (\\nabla_X\\mathbb{T})\\mathbb{F}^{-\\rm T}\\cdot\\mathbf{q}\\;\\mathrm{d}\\mathbf{X}&=\n",
    "\\int_{\\Omega_X}J \\big((\\nabla_X\\mathbb{T})\\mathbb{F}^{-\\rm T}\\cdot\\mathbf{q}+\\mathbb{\\mathrm{div}_{X}(J\\mathbb{F}^{-\\rm T})}\\big)\\;\\mathrm{d}\\mathbf{X}\\\\\n",
    "&=\\int_{\\Omega_X}\\mathrm{div}_X(J\\mathbb{T}\\mathbb{F}^{-\\rm T})\\cdot\\mathbf{q}\\,\\mathrm{d}\\mathbf{X}.\n",
    "\\end{align*}\n",
    "\n",
    "The weak formulation in the Lagrangian formulation then reads\n",
    "\\begin{align*}\n",
    "\\int_{\\Omega_X} J \\mathrm{tr}\\big((\\nabla_X\\,\\mathbf{v})\\mathbb{F}^{-1}\\big) \\,  q\\; \\mathrm{d}\\mathbf{X} = 0,&\\\\\n",
    "\\int_{\\Omega_X} J\\rho\\frac{\\partial\\mathbf{v}}{\\partial t}\\cdot\\mathbf{q}\\; \\mathrm{d}\\mathbf{X} - \\int_{\\Omega_X} \\mathrm{div}_X \\big(J\\hat{\\mathbb{T}}\\mathbb{F}^{-\\rm T}\\big)\\cdot \\mathbf{q}\\; \\mathrm{d}\\mathbf{X}=0&,\\\\\n",
    "\\hat{\\mathbb{T}}=-p\\mathbb{I}+\\mu_2\\Big((\\nabla_X\\mathbf{v})\\mathbb{F}^{-1}+\\mathbb{F}^{-\\rm T}(\\nabla_X\\mathbf{v})^{\\rm T}\\Big)+G(\\mathbb{B}-\\mathbb{I}),&\\\\\n",
    "\\int_{\\Omega_X} J\\left(\\frac{\\partial\\mathbb{B}}{\\partial t}-(\\nabla_X{\\bf v})\\mathbb{F}^{-1}\\mathbb{B}-\\mathbb{B}\\mathbb{F}^{-\\rm T}(\\nabla_X{\\bf v})^{\\rm T}+\\frac{G}{\\mu_1}(\\mathbb{B}-\\mathbb{I})\\right)\\cdot\\mathbb{Q}\\; \\mathrm{d}\\mathbf{X}=0.&\n",
    "\\end{align*}\n",
    "\n",
    "To close the system of equations we provide the last equation\n",
    "\\begin{equation}\n",
    "\\frac{\\partial\\mathbf{u}}{\\partial t}=\\mathbf{v}\n",
    "\\end{equation}\n",
    "describing that all points are material. The Lagrangian formulation works well if the changes in the domain are not too big. The main problem appears because all points are material and for example a vortex in the flow can damage the virtual mesh.\n",
    "\n",
    "\n",
    "### Arbitrary Lagrangian-Eulerian formulation\n",
    "Here we identify the computational domain with a new domain $\\Omega_\\chi$, that is mapped by $\\hat{\\varphi}$ to the Eulerian domain $\\Omega_x$, i.e.\n",
    "\\begin{equation}\n",
    "\\hat{\\varphi}: \\chi \\to x:=\\chi+\\hat{\\mathbf{u}},\n",
    "\\end{equation}\n",
    "where $\\hat{\\mathbf{u}}$ is an arbitrary deformation for which we require that on the boundary of the domain it preserves the envelope (we can assume for example that the points on the boundary are amterial poingts, inside the domain $\\Omega_\\chi$ we just require a smooth unique solution, for simplicity we can solve a simple Laplace equation, i.e.\n",
    "\\begin{equation}\\label{laplace_u}\n",
    "\\Bigg\\{\\begin{matrix}\n",
    "\\dfrac{\\partial\\hat{\\mathbf{u}}}{\\partial t}=\\mathbf{v}\\quad\\mathrm{on}\\ \\partial\\Omega_\\chi,\\\\\n",
    "-\\Delta_\\chi\\hat{\\mathbf{u}}=\\mathbf{0}\\quad\\mathrm{in}\\ \\Omega_\\chi.\n",
    "\\end{matrix}\n",
    "\\end{equation}\n",
    "\n",
    "As before, we define the deformation gradient $\\hat{\\mathbb{F}}$ and its Jacobian $\\hat{J}$ by\n",
    "\\begin{equation}\n",
    "\\hat{\\mathbb{F}}:=\\frac{\\partial \\hat{\\varphi}}{\\partial \\chi}=\\mathbb{I}+\\nabla_\\chi\\hat{\\mathbf{u}},\\quad \\hat{J}=\\det\\hat{\\mathbb{F}}.\n",
    "\\end{equation}\n",
    "\n",
    "Using the same procedure as in the Lagrangian transformation we compute how the gradient and the material derivative transform, i.e.\n",
    "\\begin{equation}\n",
    "\\nabla_\\chi\\mathbf{v}=\\frac{\\partial\\mathbf{v}(\\hat{\\varphi}(\\chi, t), t)}{\\partial \\chi} = \\frac{\\partial\\mathbf{v}}{\\partial\\mathbf{x}}\\frac{\\partial\\hat{\\varphi}}{\\partial \\chi}=(\\nabla_x\\mathbf{v})\\hat{\\mathbb{F}} \\quad \\Rightarrow \\quad (\\nabla_x\\mathbf{v})=(\\nabla_\\chi\\mathbf{v})\\hat{\\mathbb{F}}^{-1},\n",
    "\\end{equation}\n",
    "and the time derivative of scalar $s$ reads\n",
    "\\begin{equation}\n",
    "\\frac{\\partial s}{\\partial t}\\Big|_\\chi = \\frac{\\mathrm{d}s(\\hat{\\varphi}(\\chi,t),t)}{\\mathrm{d}t}\\Big|_\\chi=\\frac{\\partial s}{\\partial t}\\Big|_x+\\frac{\\partial s}{\\partial x}\\frac{\\partial \\hat{\\varphi}}{\\partial t}\\Big|_\\chi=\\frac{\\partial s}{\\partial t}\\Big|_x+\\frac{\\partial \\hat{\\mathbf{u}}}{\\partial t}\\cdot\\nabla_x s.\n",
    "\\end{equation}\n",
    "The last relation can be used to express the material time derivative of the scalar $s$\n",
    "\\begin{align*}\n",
    "\\frac{\\partial s}{\\partial t}\\Big|_x+\\mathbf{v}\\cdot\\nabla_x s=\\frac{\\partial s}{\\partial t}\\Big|_x+\\left(\\mathbf{v}-\\frac{\\partial \\hat{\\mathbf{u}}}{\\partial t}\\right)\\cdot\\nabla_x s&=\n",
    "\\frac{\\partial s}{\\partial t}\\Big|_x+\\left(\\mathbf{v}-\\frac{\\partial \\hat{\\mathbf{u}}}{\\partial t}\\right)\\cdot(\\nabla_\\chi s)\\hat{\\mathbb{F}}^{-1}\\\\\n",
    "&=\\frac{\\partial s}{\\partial t}\\Big|_x+\\left(\\hat{\\mathbb{F}}^{-1}\\left(\\mathbf{v}-\\frac{\\partial \\hat{\\mathbf{u}}}{\\partial t}\\right)\\right)\\cdot\\nabla_\\chi s.\n",
    "\\end{align*}\n",
    "\n",
    "By transforming the weak form in the Eulerian setting we arrive to\n",
    "\\begin{align*}\n",
    "\\int_{\\Omega_\\chi} \\hat{J} \\mathrm{tr}\\big((\\nabla_\\chi\\,\\mathbf{v})\\hat{\\mathbb{F}}^{-1}\\big) \\,  q\\; \\mathrm{d}\\chi = 0,&\\\\\n",
    "\\int_{\\Omega_\\chi} \\hat{J}\\left[\\rho\\frac{\\partial\\mathbf{v}}{\\partial t}+(\\nabla_\\chi\\mathbf{v})\\left(\\mathbb{F}^{-1}\\left(\\mathbf{v}-\\frac{\\partial\\hat{\\mathbf{u}}}{\\partial t}\\right)\\right)\\right]\\cdot\\mathbf{q}\\; \\mathrm{d}\\chi - \\int_{\\Omega_\\chi} \\mathrm{div}_\\chi \\big(\\hat{J}\\hat{\\mathbb{T}}\\hat{\\mathbb{F}}^{-\\rm T}\\big)\\cdot \\mathbf{q}\\; \\mathrm{d}\\chi=0&,\\\\\n",
    "\\hat{\\mathbb{T}}=-p\\mathbb{I}+\\mu_2\\Big((\\nabla_\\chi\\mathbf{v})\\hat{\\mathbb{F}}^{-1}+\\hat{\\mathbb{F}}^{-\\rm T}(\\nabla_\\chi\\mathbf{v})^{\\rm T}\\Big)+G(\\mathbb{B}-\\mathbb{I}),&\\\\\n",
    "\\int_{\\Omega_chi} \\hat{J}\\left[\\frac{\\partial\\mathbb{B}}{\\partial t}+(\\nabla_\\chi\\mathbb{B})\\left(\\hat{\\mathbb{F}}^{-1}\\left(\\mathbf{v}-\\frac{\\partial\\hat{\\mathbf{u}}}{\\partial t}\\right)\\right)-(\\nabla_\\chi{\\bf v})\\hat{\\mathbb{F}}^{-1}\\mathbb{B}-\\mathbb{B}\\hat{\\mathbb{F}}^{-\\rm T}(\\nabla_\\chi{\\bf v})^{\\rm T}+\\frac{G}{\\mu_1}(\\mathbb{B}-\\mathbb{I})\\right]\\cdot\\mathbb{Q}\\; \\mathrm{d}\\chi=0.&\n",
    "\\end{align*}\n",
    "\n",
    "The set of equations is closed with the Laplace equation for $\\hat{\\mathbf{u}}$.\n",
    "\n",
    "The divergence theorem is applied in the second term of the transformed balance of linear momentum\n",
    "\\begin{equation}\n",
    "\\int_{\\Omega_\\chi} \\mathrm{div}_\\chi \\big(\\hat{J}\\hat{\\mathbb{T}}\\hat{\\mathbb{F}}^{-\\rm T}\\big)\\cdot \\mathbf{q}\\; \\mathrm{d}\\chi=-\\int_{\\Omega_\\chi} \\big(\\hat{J}\\hat{\\mathbb{T}}\\hat{\\mathbb{F}}^{-\\rm T}\\big)\\cdot \\nabla_\\chi\\mathbf{q}\\; \\mathrm{d}\\chi + \\int_{\\partial\\Omega_\\chi}\\big(\\hat{J}\\hat{\\mathbb{T}}\\hat{\\mathbb{F}}^{-\\rm T}\\big)\\mathbf{n}_\\chi\\cdot \\mathbf{q}\\; \\mathrm{d}S_\\chi\n",
    "\\end{equation}\n",
    "and the last term is used to prescribe the Neumann boundary condition.\n",
    "\n",
    "### Implementation of the boundary condition -- Nitsche method\n",
    "To implement the solution of the laplace equation for $\\hat{\\mathbf{u}}$ together with the Dirichlet boundary condition \n",
    "\\begin{equation}\n",
    "\\frac{\\partial\\hat{\\mathbf{u}}}{\\partial t}=\\mathbf{v}\\quad\\mathrm{on}\\ \\partial\\Omega_\\chi\n",
    "\\end{equation}\n",
    "we use the Nitsche method that treats the Dirichlet boundary condition in the weak sense.\n",
    "\n",
    "The time derivative is approximated using the backward Euler time scheme with constant time-step $\\Delta t$, thus on $n-$th time level we solve the following problem\n",
    "\\begin{align}\n",
    "-\\Delta\\hat{\\mathbf{u}}^{n}&=0\\quad\\mathrm{in}\\ \\Omega_\\chi,\\\\\n",
    "\\frac{\\hat{\\mathbf u}^n-\\hat{\\mathbf u}^{n-1}}{\\Delta t}&=\\mathbf{v}^n\\quad\\mathrm{on}\\ \\partial\\Omega_\\chi.\n",
    "\\end{align}\n",
    "Equivalently, the boundary condition can be written in the form\n",
    "\\begin{equation}\n",
    "\\hat{\\mathbf u}^n=\\hat{\\mathbf u}^{n-1}+\\Delta t\\, \\mathbf{v}^n\\quad\\mathrm{on}\\ \\partial\\Omega_\\chi.\n",
    "\\end{equation}\n",
    "\n",
    "\n",
    "\n",
    "In the Nitsche method we multiply the laplace equation with the test function $\\mathbf{t}$, integrate it over $\\Omega_\\chi$ and use the divergence theorem\n",
    "\\begin{equation}\n",
    "\\int_{\\Omega_\\chi} \\nabla_\\chi\\hat{\\mathbf u}^n\\cdot\\nabla_\\chi\\mathbf{t}\\;\\mathrm{d}\\chi-\\int_{\\partial\\Omega_\\chi} (\\nabla_\\chi\\hat{\\mathbf u}^n)\\mathbf{n}\\cdot\\mathbf{t}\\;\\mathrm{d}S_\\chi=0.\n",
    "\\end{equation}\n",
    "Next, we take the relation on the boundary $\\partial\\Omega_\\chi$, multiply it by the test function $(\\nabla_\\chi\\mathbf{t})\\mathbf{n}$, integrate over $\\partial\\Omega_\\chi$ and add it do the previous equation, finally we add a classical penalty term\n",
    "\\begin{multline}\n",
    "\\int_{\\Omega_\\chi} \\nabla_\\chi\\hat{\\mathbf u}^n\\cdot\\nabla_\\chi\\mathbf{t}\\;\\mathrm{d}\\chi-\\int_{\\partial\\Omega_\\chi} (\\nabla_\\chi\\hat{\\mathbf u}^n)\\mathbf{n}\\cdot\\mathbf{t}\\;\\mathrm{d}S_\\chi+\\int_{\\partial\\Omega_\\chi} (\\nabla_\\chi{\\mathbf t})\\mathbf{n}\\cdot(\\hat{\\mathbf{u}}^{n}-(\\hat{\\mathbf u}^{n-1}+\\Delta t\\, \\mathbf{v}^n))\\;\\mathrm{d}S_\\chi\\\\\n",
    "+\\frac{\\beta}{h}\\int_{\\partial\\Omega_\\chi}\\big(\\hat{\\mathbf{u}}^{n}-(\\hat{\\mathbf u}^{n-1}+\\Delta t\\,\\mathbf{v}^n)\\big)\\cdot\\mathbf{t}\\;\\mathrm{d}S_\\chi=0,\n",
    "\\end{multline}\n",
    "where $\\beta$ is the penalty parameter and $h$ is the edge length on $\\partial\\Omega_\\chi$.\n",
    "This type of Nitsche method is called the non-symmetric Nitsche method (Burman and Hansbo 2012), its advantage is that it is stable for all parameters $\\beta\\geq0$.\n"
   ]
  },
  {
   "cell_type": "markdown",
   "id": "175165fd",
   "metadata": {},
   "source": [
    "## Problem description\n",
    "\n",
    "\n",
    "We compute the problem of rolling a viscoelastic material (asphalt).  Let us consider the\n",
    "rectangular piece of material, 3m wide and 0.5m high. oldroyd-B model is used with the\n",
    "material parameters $G=10\\,$kPa, $\\mu_1=10\\,$kPa s and $\\mu_2=100\\,$Pa s. The problem is depicted in the Figure below.<p>\n",
    "<div align=center>\n",
    "<img src=\"fig/rolling_asphalt.png\" width=\"600\"/>\n",
    "</div>\n",
    "\n",
    "The material is on the ground where it can fully slip in the $x$-direction, but it can\n",
    "not move in the $y$-direction. All other sides of the rectangle can freely move. At $t = 0$\n",
    "the material is pushed at the\n",
    "top with a constant normal stress $T_{yy} = −5\\,$kPa. The force is applied on the constant\n",
    "area $l = 50\\,$cm, which moves with the velocity $0.4\\,$m/s from the left to the right and\n",
    "then back to the left, i.e. the material is rolled forward and back."
   ]
  },
  {
   "cell_type": "markdown",
   "id": "4703581e",
   "metadata": {},
   "source": [
    "## FEniCS implementation"
   ]
  },
  {
   "cell_type": "markdown",
   "id": "f8d36030",
   "metadata": {},
   "source": [
    "Import **dolfin** (FEniCS backend), **matplotlib.pyplot** (for plots), **numpy** (for arrays) and **time** (for time benchmarking)."
   ]
  },
  {
   "cell_type": "code",
   "execution_count": 1,
   "id": "56d3c538",
   "metadata": {},
   "outputs": [],
   "source": [
    "import dolfin as df\n",
    "import matplotlib.pyplot as plt\n",
    "import numpy as np\n",
    "from time import time"
   ]
  },
  {
   "cell_type": "markdown",
   "id": "0ad45b73",
   "metadata": {},
   "source": [
    "Create mesh."
   ]
  },
  {
   "cell_type": "code",
   "execution_count": 2,
   "id": "476d8495",
   "metadata": {
    "scrolled": true
   },
   "outputs": [
    {
     "data": {
      "image/png": "[encoded data removed]",
      "text/plain": [
       "<Figure size 432x288 with 1 Axes>"
      ]
     },
     "metadata": {
      "needs_background": "light"
     },
     "output_type": "display_data"
    }
   ],
   "source": [
    "L = 3.0    # Length\n",
    "H = 0.5    # Height\n",
    "nx = 60\n",
    "ny = 10\n",
    "mesh = df.RectangleMesh(df.Point(0.0, 0.0), df.Point(L, H), nx, ny, \"crossed\")\n",
    "\n",
    "df.plot(mesh)\n",
    "plt.show()"
   ]
  },
  {
   "cell_type": "markdown",
   "id": "09fe49f8",
   "metadata": {},
   "source": [
    "Identify boundaries."
   ]
  },
  {
   "cell_type": "code",
   "execution_count": 3,
   "id": "5d287a35",
   "metadata": {},
   "outputs": [],
   "source": [
    "# define boundary as a class\n",
    "class Bottom(df.SubDomain):\n",
    "    def inside(self, x, on_boundary):\n",
    "        return on_boundary and df.near(x[1], 0)\n",
    "\n",
    "bottom = Bottom()\n",
    "\n",
    "class Top(df.SubDomain):\n",
    "    def inside(self, x, on_boundary):\n",
    "        return on_boundary and df.near(x[1], H)\n",
    "\n",
    "top = Top()\n",
    "\n",
    "class Lateral(df.SubDomain):\n",
    "    def inside(self, x, on_boundary):\n",
    "        return on_boundary and (df.near(x[0], 0) or df.near(x[0], L))\n",
    "\n",
    "lateral = Lateral()\n",
    "\n",
    "# mark boundary parts\n",
    "bndry = df.MeshFunction('size_t', mesh, mesh.topology().dim()-1, 0)\n",
    "bottom.mark(bndry, 1)\n",
    "top.mark(bndry, 2)\n",
    "lateral.mark(bndry, 3)\n",
    "\n",
    "ds = df.Measure(\"ds\", subdomain_data=bndry)"
   ]
  },
  {
   "cell_type": "markdown",
   "id": "e1034893",
   "metadata": {},
   "source": [
    "Define mixed function space for pressure $p$, velocity $\\mathbf{v}$ and extra stress tensor $\\mathbb{B}$. In this example, we use inf-sup stable Taylor-Hood elements for velocity and pressure, which are quadratic in velocity and linear in pressure; and linear in extra stress tensor."
   ]
  },
  {
   "cell_type": "code",
   "execution_count": 4,
   "id": "e6c11adf",
   "metadata": {},
   "outputs": [
    {
     "name": "stdout",
     "output_type": "stream",
     "text": [
      "Calling FFC just-in-time (JIT) compiler, this may take some time.\n",
      "Problem size: 24848\n"
     ]
    }
   ],
   "source": [
    "Ev = df.VectorElement(\"CG\", mesh.ufl_cell(), 2) # 2 = quadratic elements\n",
    "Ep = df.FiniteElement(\"CG\", mesh.ufl_cell(), 1) # 1 = linear elements\n",
    "E = df.MixedElement([Ev, Ev, Ep, Ep, Ep, Ep])\n",
    "W = df.FunctionSpace(mesh, E)\n",
    "print(\"Problem size: {0:d}\".format(W.dim())) "
   ]
  },
  {
   "cell_type": "markdown",
   "id": "531721e7",
   "metadata": {},
   "source": [
    "Declare boundary conditions."
   ]
  },
  {
   "cell_type": "code",
   "execution_count": 5,
   "id": "fc58adaf",
   "metadata": {},
   "outputs": [],
   "source": [
    "zero = df.Constant(0)\n",
    "\n",
    "bc_bot_uy = df.DirichletBC(W.sub(1).sub(1), zero, bndry, 1)\n",
    "bc_bot_vy = df.DirichletBC(W.sub(0).sub(1), zero, bndry, 1)\n",
    "\n",
    "bcs = [bc_bot_uy, bc_bot_vy] "
   ]
  },
  {
   "cell_type": "markdown",
   "id": "4b756be8",
   "metadata": {},
   "source": [
    "Write the weak form."
   ]
  },
  {
   "cell_type": "code",
   "execution_count": 6,
   "id": "715887fa",
   "metadata": {},
   "outputs": [],
   "source": [
    "rho = df.Constant(1e3)\n",
    "mu1 = df.Constant(10e3)\n",
    "mu2 = df.Constant(100)\n",
    "G = df.Constant(10e3)\n",
    "\n",
    "dt = 0.05 #time step\n",
    "t = dt #time\n",
    "Tappl = df.Expression((\"0.0\", \"(t<5.0) ? ((x[0]>0.2+0.4*t && x[0]<0.7+0.4*t) ? -5.0e3 : 0.0) : 0.0\"), t = t, degree = 1)\n",
    "\n",
    "v_, u_, b11_, b12_, b22_, p_ = df.TestFunctions(W)\n",
    "w = df.Function(W)\n",
    "v, u, b11, b12, b22, p = df.split(w)\n",
    "\n",
    "w0 = df.Function(W)\n",
    "v0, u0, b110, b120, b220, _ = df.split(w0)\n",
    "\n",
    "B_ = df.as_tensor([[b11_,b12_],[b12_,b22_]])\n",
    "B = df.as_tensor([[b11,b12],[b12,b22]])\n",
    "B0 = df.as_tensor([[b110,b120],[b120,b220]])\n",
    "\n",
    "I = df.Identity(2)\n",
    "Fhat = I + df.grad(u)\n",
    "Jhat = df.det(Fhat)\n",
    "\n",
    "L = df.grad(v)\n",
    "invFhat = df.inv(Fhat) \n",
    "Lhat = L*invFhat\n",
    "Dhat = 0.5*(Lhat + Lhat.T)\n",
    "That = -p*I + 2.0*mu2*Dhat + G*(B-I)\n",
    "aleder = df.dot(invFhat, v - (u-u0)/dt)\n",
    "\n",
    "matderv = (v-v0)/dt + df.grad(v)*aleder\n",
    "oldroydderB = (B-B0)/dt + B.dx(0)*aleder[0] + B.dx(1)*aleder[1] - Lhat*B - B*(Lhat.T)\n",
    "\n",
    "Eq1 = Jhat*df.tr(df.grad(v)*invFhat)*p_*df.dx\n",
    "Eq2 = Jhat*df.inner(rho*matderv, v_)*df.dx + df.inner(That, df.grad(v_))*df.dx - df.inner(Tappl, v_)*ds(2)\n",
    "Eq3 = Jhat*df.inner(oldroydderB, B_)*df.dx + Jhat*G/mu1*df.inner(B - I, B_)*df.dx\n",
    "Eq4 = df.inner(df.grad(u), df.grad(u_))*df.dx\n",
    "\n",
    "n = df.FacetNormal(mesh)\n",
    "h = df.CellDiameter(mesh)\n",
    "Eq5 = -df.inner(df.grad(u)*n, u_)*(ds(1)+ds(2)+ds(3)) + df.inner(df.grad(u_)*n, u - (u0 + dt*v))*(ds(1)+ds(2)+ds(3)) + 1000.0/h*df.inner(u - (u0 + dt*v), u_)*(ds(1)+ds(2)+ds(3))\n",
    "\n",
    "Eq = Eq1 + Eq2 + Eq3 + Eq4 + Eq5"
   ]
  },
  {
   "cell_type": "markdown",
   "id": "2ff9ccf5",
   "metadata": {},
   "source": [
    "Prepare the non-linear solver and define the initial conditions."
   ]
  },
  {
   "cell_type": "code",
   "execution_count": 7,
   "id": "5ed47f03",
   "metadata": {},
   "outputs": [
    {
     "name": "stdout",
     "output_type": "stream",
     "text": [
      "Calling FFC just-in-time (JIT) compiler, this may take some time.\n",
      "Calling FFC just-in-time (JIT) compiler, this may take some time.\n"
     ]
    }
   ],
   "source": [
    "problem=df.NonlinearVariationalProblem(Eq,w,bcs,df.derivative(Eq,w))\n",
    "solver=df.NonlinearVariationalSolver(problem)\n",
    "\n",
    "solver.parameters['newton_solver']['report'] = True\n",
    "solver.parameters['newton_solver']['linear_solver'] = 'mumps'\n",
    "solver.parameters['newton_solver']['lu_solver']['report'] = False\n",
    "solver.parameters['newton_solver']['absolute_tolerance'] = 5e-9\n",
    "solver.parameters['newton_solver']['relative_tolerance'] = 5e-9\n",
    "\n",
    "ic = df.Expression((\"0.0\",\"0.0\",\"0.0\",\"0.0\",\"1.0\",\"0.0\",\"1.0\",\"0.0\"), degree = 1)\n",
    "w.assign(df.interpolate(ic, W))\n",
    "w0.assign(df.interpolate(ic, W))"
   ]
  },
  {
   "cell_type": "markdown",
   "id": "bb88af3f",
   "metadata": {},
   "source": [
    "We create the XDMF files for storing the results."
   ]
  },
  {
   "cell_type": "code",
   "execution_count": 8,
   "id": "1ce621e2",
   "metadata": {},
   "outputs": [],
   "source": [
    "# Initialize the files for writing the results\n",
    "files = []\n",
    "for name in ['v', 'u', 'B11', 'B12', 'B22', 'p']:\n",
    "    with df.XDMFFile(df.MPI.comm_world, f\"result/{name}.xdmf\") as xdmf:\n",
    "        xdmf.parameters[\"flush_output\"] = True\n",
    "        files.append(xdmf)"
   ]
  },
  {
   "cell_type": "markdown",
   "id": "cc6fa2f0",
   "metadata": {},
   "source": [
    "Iterate over the time steps until the t_end is not reached."
   ]
  },
  {
   "cell_type": "code",
   "execution_count": null,
   "id": "5e48539f",
   "metadata": {
    "scrolled": true
   },
   "outputs": [],
   "source": [
    "while t < 8.0:\n",
    "    df.info(f\"t = {t:.2f}\")\n",
    "    Tappl.t = t\n",
    "    solver.solve()\n",
    "    # write the time-step into the file\n",
    "    for func, name, xdmf in zip(w.split(True), ['v', 'u', 'B11', 'B12', 'B22', 'p'], files):\n",
    "        func.rename(name, name)\n",
    "        xdmf.write(func, t)\n",
    "\n",
    "    w0.assign(w)\n",
    "    t += dt\n"
   ]
  },
  {
   "cell_type": "markdown",
   "id": "fd82dfd7",
   "metadata": {},
   "source": [
    "## Exercises \n",
    "1) Try different material parameters, study the effect of the ratio $\\mu_1/G$.\n",
    "2) Program the roller to roll forward and back, and then have a rest."
   ]
  }
 ],
 "metadata": {
  "kernelspec": {
   "display_name": "Python 3 (ipykernel)",
   "language": "python",
   "name": "python3"
  },
  "language_info": {
   "codemirror_mode": {
    "name": "ipython",
    "version": 3
   },
   "file_extension": ".py",
   "mimetype": "text/x-python",
   "name": "python",
   "nbconvert_exporter": "python",
   "pygments_lexer": "ipython3",
   "version": "3.10.4"
  },
  "vscode": {
   "interpreter": {
    "hash": "916dbcbb3f70747c44a77c7bcd40155683ae19c65e1c03b4aa3499c5328201f1"
   }
  }
 },
 "nbformat": 4,
 "nbformat_minor": 5
}
