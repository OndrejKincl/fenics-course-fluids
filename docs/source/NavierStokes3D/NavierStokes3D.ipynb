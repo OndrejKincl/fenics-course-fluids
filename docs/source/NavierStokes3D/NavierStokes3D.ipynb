{
 "cells": [
  {
   "cell_type": "markdown",
   "id": "dc6bde15",
   "metadata": {},
   "source": [
    "# Navier Stokes - blood flow simulation"
   ]
  },
  {
   "cell_type": "markdown",
   "id": "2eca062f",
   "metadata": {},
   "source": [
    "## Formulation\n",
    "\n",
    "In this example we present a bloodflow simulation in a 3D geometry and we demonstrate how to prescribe a time dependent expression as a Dirichlet boundary condition.\n",
    "![Mesh](fig/aneurysm.png \"Mesh\")"
   ]
  },
  {
   "cell_type": "markdown",
   "id": "5a45f8b3",
   "metadata": {},
   "source": [
    "## Implementation\n",
    "Again, we need to import the neccessary packages."
   ]
  },
  {
   "cell_type": "code",
   "execution_count": 94,
   "id": "13731287",
   "metadata": {},
   "outputs": [],
   "source": [
    "import dolfin as df\n",
    "import numpy as np\n",
    "from time import time"
   ]
  },
  {
   "cell_type": "markdown",
   "id": "70155c2a",
   "metadata": {},
   "source": [
    "Next, we read the mesh from the file and create the boundary markings since ```.xml``` files do not include them."
   ]
  },
  {
   "cell_type": "code",
   "execution_count": 95,
   "id": "95a50945",
   "metadata": {},
   "outputs": [],
   "source": [
    "mesh = df.Mesh(\"bifurcation_murray_mesh.xml\")\n",
    "dim = mesh.topology().dim()\n",
    "bndry = df.MeshFunction(\"size_t\", mesh, dim-1, 0)\n",
    "mesh.init()\n",
    "\n",
    "points = [np.array([-0.9, 0.0, 0.0]), np.array([0.6, 0.0, 0.6]), np.array([0.6, 0.0, -0.6])]\n",
    "normals = [np.array([-1.0, 0.0, 0.0]), np.array([np.sqrt(2), 0.0, np.sqrt(2)]), np.array([np.sqrt(2), 0.0, -np.sqrt(2)])]\n",
    "for f in df.facets(mesh):\n",
    "    bndry[f] = 0\n",
    "    if f.exterior():\n",
    "        bndry[f] = 1\n",
    "        x = f.midpoint().array()[:dim]\n",
    "        for mark, point, normal in zip([2,3,4], points, normals):\n",
    "            if abs(np.dot(x-point, normal)) <= 0.001:\n",
    "                bndry[f] = mark"
   ]
  },
  {
   "cell_type": "markdown",
   "id": "0fffbaf8",
   "metadata": {},
   "source": [
    "Now we define the function spaces for MINI element."
   ]
  },
  {
   "cell_type": "code",
   "execution_count": 96,
   "id": "903128a5",
   "metadata": {},
   "outputs": [],
   "source": [
    "U = df.FiniteElement(\"CG\", mesh.ufl_cell(), 1)\n",
    "B = df.FiniteElement(\"Bubble\", mesh.ufl_cell(), dim + 1)\n",
    "P = df.FiniteElement(\"CG\", mesh.ufl_cell(), 1)\n",
    "V = df.VectorElement(df.NodalEnrichedElement(U, B))\n",
    "W = df.FunctionSpace(mesh, df.MixedElement([V, P]))"
   ]
  },
  {
   "cell_type": "markdown",
   "id": "b0877e03",
   "metadata": {},
   "source": [
    "Let us define some parameters and constants."
   ]
  },
  {
   "cell_type": "code",
   "execution_count": 1,
   "id": "cc48cda9",
   "metadata": {},
   "outputs": [
    {
     "ename": "NameError",
     "evalue": "name 'df' is not defined",
     "output_type": "error",
     "traceback": [
      "\u001b[0;31m---------------------------------------------------------------------------\u001b[0m",
      "\u001b[0;31mNameError\u001b[0m                                 Traceback (most recent call last)",
      "Cell \u001b[0;32mIn[1], line 1\u001b[0m\n\u001b[0;32m----> 1\u001b[0m mu \u001b[38;5;241m=\u001b[39m \u001b[43mdf\u001b[49m\u001b[38;5;241m.\u001b[39mConstant(\u001b[38;5;241m0.04\u001b[39m)\n\u001b[1;32m      2\u001b[0m rho \u001b[38;5;241m=\u001b[39m df\u001b[38;5;241m.\u001b[39mConstant(\u001b[38;5;241m1.05\u001b[39m)\n\u001b[1;32m      3\u001b[0m theta \u001b[38;5;241m=\u001b[39m df\u001b[38;5;241m.\u001b[39mConstant(\u001b[38;5;241m1.0\u001b[39m)\n",
      "\u001b[0;31mNameError\u001b[0m: name 'df' is not defined"
     ]
    }
   ],
   "source": [
    "mu = df.Constant(0.04)\n",
    "rho = df.Constant(1.05)\n",
    "theta = df.Constant(1.0)\n",
    "dt = 0.01\n",
    "t_end = 0.35\n",
    "t = 0.0"
   ]
  },
  {
   "cell_type": "markdown",
   "id": "61126c6f",
   "metadata": {},
   "source": [
    "Then we can define the boundary conditions as no slip on the wall and parabolic expression at the inlet. Notice that the average inflow velocity is now prescribed using a function of time. "
   ]
  },
  {
   "cell_type": "code",
   "execution_count": 98,
   "id": "df5aca61",
   "metadata": {},
   "outputs": [],
   "source": [
    "zero_vector = df.Constant((0.0, 0.0, 0.0))\n",
    "bc_walls = df.DirichletBC(W.sub(0), zero_vector, bndry, 1)\n",
    "\n",
    "velocity = lambda t: 0.6*max((t*(0.3-t))/pow(0.15,2), 0.0)\n",
    "inlet_expression = df.Expression((\"v * 2.0 * (pow(R,2) - pow(x[0]+0.9,2) - pow(x[1],2) - pow(x[2],2)) / pow(R,2)\", \"0.0\", \"0.0\"), R=0.15, v=velocity(t), degree=2)\n",
    "bc_in = df.DirichletBC(W.sub(0), inlet_expression, bndry, 2)\n",
    "\n",
    "bcs = [bc_in, bc_walls]"
   ]
  },
  {
   "cell_type": "markdown",
   "id": "ad41680e",
   "metadata": {},
   "source": [
    "Then we can define the variational problem."
   ]
  },
  {
   "cell_type": "code",
   "execution_count": 100,
   "id": "fe05527e",
   "metadata": {},
   "outputs": [],
   "source": [
    "v, q = df.TestFunctions(W)\n",
    "w = df.Function(W)\n",
    "w0 = df.Function(W)\n",
    "u, p = df.split(w)\n",
    "u0, p0 = df.split(w0)\n",
    "\n",
    "a = lambda u, v: rho*df.inner(df.grad(u)*u, v)*df.dx + mu*df.inner(df.grad(u), df.grad(v))*df.dx\n",
    "b = lambda q, v: q*df.div(v)*df.dx\n",
    "\n",
    "F1 = a(u, v) - b(p, v) - b(q, u)\n",
    "F0 = a(u0, v) - b(p, v) - b(q, u)\n",
    "\n",
    "# time derivative\n",
    "F = df.Constant(1.0/dt)*rho*df.inner((u-u0), v)*df.dx + theta*F1 + (1-theta)*F0\n",
    "\n",
    "# Jacobi matrix\n",
    "J = df.derivative(F, w)"
   ]
  },
  {
   "cell_type": "markdown",
   "id": "a9420400",
   "metadata": {},
   "source": [
    "Setting up nonlinear variational solver."
   ]
  },
  {
   "cell_type": "code",
   "execution_count": 101,
   "id": "f297530f",
   "metadata": {},
   "outputs": [],
   "source": [
    "problem = df.NonlinearVariationalProblem(F, w, bcs, J)\n",
    "solver = df.NonlinearVariationalSolver(problem)\n",
    "solver.parameters['newton_solver']['linear_solver'] = 'mumps'\n",
    "solver.parameters['newton_solver']['absolute_tolerance'] = 1e-12\n",
    "solver.parameters['newton_solver']['relative_tolerance'] = 1e-12"
   ]
  },
  {
   "cell_type": "markdown",
   "id": "00122da4",
   "metadata": {},
   "source": [
    "Setup files to save results for viewing in Paraview."
   ]
  },
  {
   "cell_type": "code",
   "execution_count": 102,
   "id": "9bc06ca8",
   "metadata": {},
   "outputs": [],
   "source": [
    "ufile = df.XDMFFile(\"results/u.xdmf\")\n",
    "pfile = df.XDMFFile(\"results/p.xdmf\")\n",
    "ufile.parameters[\"flush_output\"] = True\n",
    "pfile.parameters[\"flush_output\"] = True"
   ]
  },
  {
   "cell_type": "markdown",
   "id": "717a2237",
   "metadata": {},
   "source": [
    "TODO: Time stepping"
   ]
  },
  {
   "cell_type": "code",
   "execution_count": 103,
   "id": "5e1ca70f",
   "metadata": {},
   "outputs": [
    {
     "name": "stdout",
     "output_type": "stream",
     "text": [
      "t=0.01s\n",
      "  Solving nonlinear variational problem.\n",
      "    Newton iteration 0: r (abs) = 1.038e+01 (tol = 1.000e-12) r (rel) = 1.000e+00 (tol = 1.000e-12)\n",
      "    Newton iteration 1: r (abs) = 2.291e-02 (tol = 1.000e-12) r (rel) = 2.207e-03 (tol = 1.000e-12)\n",
      "    Newton iteration 2: r (abs) = 6.536e-06 (tol = 1.000e-12) r (rel) = 6.295e-07 (tol = 1.000e-12)\n",
      "    Newton iteration 3: r (abs) = 1.223e-12 (tol = 1.000e-12) r (rel) = 1.178e-13 (tol = 1.000e-12)\n",
      "    Newton solver finished in 3 iterations and 3 linear solver iterations.\n",
      "t=0.02s\n",
      "  Solving nonlinear variational problem.\n",
      "    Newton iteration 0: r (abs) = 2.096e+01 (tol = 1.000e-12) r (rel) = 1.000e+00 (tol = 1.000e-12)\n",
      "    Newton iteration 1: r (abs) = 2.004e-02 (tol = 1.000e-12) r (rel) = 9.560e-04 (tol = 1.000e-12)\n",
      "    Newton iteration 2: r (abs) = 4.787e-06 (tol = 1.000e-12) r (rel) = 2.284e-07 (tol = 1.000e-12)\n",
      "    Newton iteration 3: r (abs) = 9.672e-13 (tol = 1.000e-12) r (rel) = 4.614e-14 (tol = 1.000e-12)\n",
      "    Newton solver finished in 3 iterations and 3 linear solver iterations.\n",
      "t=0.03s\n",
      "  Solving nonlinear variational problem.\n",
      "    Newton iteration 0: r (abs) = 1.950e+01 (tol = 1.000e-12) r (rel) = 1.000e+00 (tol = 1.000e-12)\n",
      "    Newton iteration 1: r (abs) = 1.850e-02 (tol = 1.000e-12) r (rel) = 9.489e-04 (tol = 1.000e-12)\n",
      "    Newton iteration 2: r (abs) = 3.470e-06 (tol = 1.000e-12) r (rel) = 1.779e-07 (tol = 1.000e-12)\n",
      "    Newton iteration 3: r (abs) = 8.852e-13 (tol = 1.000e-12) r (rel) = 4.540e-14 (tol = 1.000e-12)\n",
      "    Newton solver finished in 3 iterations and 3 linear solver iterations.\n",
      "t=0.04s\n",
      "  Solving nonlinear variational problem.\n",
      "t=0.05s\n",
      "    Newton iteration 0: r (abs) = 1.804e+01 (tol = 1.000e-12) r (rel) = 1.000e+00 (tol = 1.000e-12)\n",
      "    Newton iteration 1: r (abs) = 1.849e-02 (tol = 1.000e-12) r (rel) = 1.025e-03 (tol = 1.000e-12)\n",
      "    Newton iteration 2: r (abs) = 2.496e-06 (tol = 1.000e-12) r (rel) = 1.384e-07 (tol = 1.000e-12)\n",
      "    Newton iteration 3: r (abs) = 8.013e-13 (tol = 1.000e-12) r (rel) = 4.442e-14 (tol = 1.000e-12)\n",
      "    Newton solver finished in 3 iterations and 3 linear solver iterations.\n",
      "  Solving nonlinear variational problem.\n",
      "    Newton iteration 0: r (abs) = 1.658e+01 (tol = 1.000e-12) r (rel) = 1.000e+00 (tol = 1.000e-12)\n",
      "    Newton iteration 1: r (abs) = 1.905e-02 (tol = 1.000e-12) r (rel) = 1.149e-03 (tol = 1.000e-12)\n",
      "    Newton iteration 2: r (abs) = 1.841e-06 (tol = 1.000e-12) r (rel) = 1.111e-07 (tol = 1.000e-12)\n",
      "    Newton iteration 3: r (abs) = 7.148e-13 (tol = 1.000e-12) r (rel) = 4.312e-14 (tol = 1.000e-12)\n",
      "    Newton solver finished in 3 iterations and 3 linear solver iterations.\n",
      "t=0.06s\n",
      "  Solving nonlinear variational problem.\n",
      "    Newton iteration 0: r (abs) = 1.512e+01 (tol = 1.000e-12) r (rel) = 1.000e+00 (tol = 1.000e-12)\n",
      "    Newton iteration 1: r (abs) = 1.905e-02 (tol = 1.000e-12) r (rel) = 1.260e-03 (tol = 1.000e-12)\n",
      "    Newton iteration 2: r (abs) = 1.581e-06 (tol = 1.000e-12) r (rel) = 1.045e-07 (tol = 1.000e-12)\n",
      "    Newton iteration 3: r (abs) = 6.604e-13 (tol = 1.000e-12) r (rel) = 4.367e-14 (tol = 1.000e-12)\n",
      "    Newton solver finished in 3 iterations and 3 linear solver iterations.\n",
      "t=0.07s\n",
      "  Solving nonlinear variational problem.\n",
      "    Newton iteration 0: r (abs) = 1.367e+01 (tol = 1.000e-12) r (rel) = 1.000e+00 (tol = 1.000e-12)\n",
      "    Newton iteration 1: r (abs) = 1.805e-02 (tol = 1.000e-12) r (rel) = 1.320e-03 (tol = 1.000e-12)\n",
      "    Newton iteration 2: r (abs) = 1.529e-06 (tol = 1.000e-12) r (rel) = 1.119e-07 (tol = 1.000e-12)\n",
      "    Newton iteration 3: r (abs) = 5.913e-13 (tol = 1.000e-12) r (rel) = 4.327e-14 (tol = 1.000e-12)\n",
      "    Newton solver finished in 3 iterations and 3 linear solver iterations.\n",
      "t=0.08s\n",
      "  Solving nonlinear variational problem.\n",
      "t=0.09s\n",
      "    Newton iteration 0: r (abs) = 1.222e+01 (tol = 1.000e-12) r (rel) = 1.000e+00 (tol = 1.000e-12)\n",
      "    Newton iteration 1: r (abs) = 1.626e-02 (tol = 1.000e-12) r (rel) = 1.330e-03 (tol = 1.000e-12)\n",
      "    Newton iteration 2: r (abs) = 1.453e-06 (tol = 1.000e-12) r (rel) = 1.189e-07 (tol = 1.000e-12)\n",
      "    Newton iteration 3: r (abs) = 5.248e-13 (tol = 1.000e-12) r (rel) = 4.295e-14 (tol = 1.000e-12)\n",
      "    Newton solver finished in 3 iterations and 3 linear solver iterations.\n",
      "  Solving nonlinear variational problem.\n",
      "    Newton iteration 0: r (abs) = 1.078e+01 (tol = 1.000e-12) r (rel) = 1.000e+00 (tol = 1.000e-12)\n",
      "    Newton iteration 1: r (abs) = 1.424e-02 (tol = 1.000e-12) r (rel) = 1.321e-03 (tol = 1.000e-12)\n",
      "    Newton iteration 2: r (abs) = 1.293e-06 (tol = 1.000e-12) r (rel) = 1.199e-07 (tol = 1.000e-12)\n",
      "    Newton iteration 3: r (abs) = 4.541e-13 (tol = 1.000e-12) r (rel) = 4.213e-14 (tol = 1.000e-12)\n",
      "    Newton solver finished in 3 iterations and 3 linear solver iterations.\n",
      "t=0.10s\n",
      "  Solving nonlinear variational problem.\n",
      "    Newton iteration 0: r (abs) = 9.347e+00 (tol = 1.000e-12) r (rel) = 1.000e+00 (tol = 1.000e-12)\n",
      "    Newton iteration 1: r (abs) = 1.252e-02 (tol = 1.000e-12) r (rel) = 1.339e-03 (tol = 1.000e-12)\n",
      "    Newton iteration 2: r (abs) = 1.016e-06 (tol = 1.000e-12) r (rel) = 1.086e-07 (tol = 1.000e-12)\n",
      "    Newton iteration 3: r (abs) = 3.885e-13 (tol = 1.000e-12) r (rel) = 4.156e-14 (tol = 1.000e-12)\n",
      "    Newton solver finished in 3 iterations and 3 linear solver iterations.\n",
      "t=0.11s\n",
      "  Solving nonlinear variational problem.\n",
      "    Newton iteration 0: r (abs) = 7.925e+00 (tol = 1.000e-12) r (rel) = 1.000e+00 (tol = 1.000e-12)\n",
      "    Newton iteration 1: r (abs) = 1.123e-02 (tol = 1.000e-12) r (rel) = 1.417e-03 (tol = 1.000e-12)\n",
      "    Newton iteration 2: r (abs) = 7.076e-07 (tol = 1.000e-12) r (rel) = 8.929e-08 (tol = 1.000e-12)\n",
      "    Newton iteration 3: r (abs) = 3.192e-13 (tol = 1.000e-12) r (rel) = 4.028e-14 (tol = 1.000e-12)\n",
      "    Newton solver finished in 3 iterations and 3 linear solver iterations.\n",
      "t=0.12s\n",
      "  Solving nonlinear variational problem.\n",
      "    Newton iteration 0: r (abs) = 6.514e+00 (tol = 1.000e-12) r (rel) = 1.000e+00 (tol = 1.000e-12)\n",
      "    Newton iteration 1: r (abs) = 1.012e-02 (tol = 1.000e-12) r (rel) = 1.553e-03 (tol = 1.000e-12)\n",
      "    Newton iteration 2: r (abs) = 5.064e-07 (tol = 1.000e-12) r (rel) = 7.774e-08 (tol = 1.000e-12)\n",
      "    Newton iteration 3: r (abs) = 2.549e-13 (tol = 1.000e-12) r (rel) = 3.913e-14 (tol = 1.000e-12)\n",
      "    Newton solver finished in 3 iterations and 3 linear solver iterations.\n",
      "t=0.13s\n",
      "  Solving nonlinear variational problem.\n",
      "    Newton iteration 0: r (abs) = 5.124e+00 (tol = 1.000e-12) r (rel) = 1.000e+00 (tol = 1.000e-12)\n",
      "    Newton iteration 1: r (abs) = 8.926e-03 (tol = 1.000e-12) r (rel) = 1.742e-03 (tol = 1.000e-12)\n",
      "    Newton iteration 2: r (abs) = 3.991e-07 (tol = 1.000e-12) r (rel) = 7.788e-08 (tol = 1.000e-12)\n",
      "    Newton iteration 3: r (abs) = 1.915e-13 (tol = 1.000e-12) r (rel) = 3.736e-14 (tol = 1.000e-12)\n",
      "    Newton solver finished in 3 iterations and 3 linear solver iterations.\n",
      "t=0.14s\n",
      "  Solving nonlinear variational problem.\n",
      "    Newton iteration 0: r (abs) = 3.779e+00 (tol = 1.000e-12) r (rel) = 1.000e+00 (tol = 1.000e-12)\n",
      "    Newton iteration 1: r (abs) = 7.572e-03 (tol = 1.000e-12) r (rel) = 2.004e-03 (tol = 1.000e-12)\n",
      "    Newton iteration 2: r (abs) = 3.120e-07 (tol = 1.000e-12) r (rel) = 8.256e-08 (tol = 1.000e-12)\n",
      "    Newton iteration 3: r (abs) = 1.236e-13 (tol = 1.000e-12) r (rel) = 3.270e-14 (tol = 1.000e-12)\n",
      "    Newton solver finished in 3 iterations and 3 linear solver iterations.\n",
      "t=0.15s\n",
      "  Solving nonlinear variational problem.\n",
      "    Newton iteration 0: r (abs) = 2.557e+00 (tol = 1.000e-12) r (rel) = 1.000e+00 (tol = 1.000e-12)\n",
      "    Newton iteration 1: r (abs) = 6.272e-03 (tol = 1.000e-12) r (rel) = 2.453e-03 (tol = 1.000e-12)\n",
      "    Newton iteration 2: r (abs) = 2.200e-07 (tol = 1.000e-12) r (rel) = 8.603e-08 (tol = 1.000e-12)\n",
      "    Newton iteration 3: r (abs) = 5.666e-14 (tol = 1.000e-12) r (rel) = 2.216e-14 (tol = 1.000e-12)\n",
      "    Newton solver finished in 3 iterations and 3 linear solver iterations.\n",
      "t=0.16s\n",
      "  Solving nonlinear variational problem.\n",
      "    Newton iteration 0: r (abs) = 1.751e+00 (tol = 1.000e-12) r (rel) = 1.000e+00 (tol = 1.000e-12)\n",
      "    Newton iteration 1: r (abs) = 5.496e-03 (tol = 1.000e-12) r (rel) = 3.140e-03 (tol = 1.000e-12)\n",
      "    Newton iteration 2: r (abs) = 1.502e-07 (tol = 1.000e-12) r (rel) = 8.582e-08 (tol = 1.000e-12)\n",
      "    Newton iteration 3: r (abs) = 1.177e-14 (tol = 1.000e-12) r (rel) = 6.726e-15 (tol = 1.000e-12)\n",
      "    Newton solver finished in 3 iterations and 3 linear solver iterations.\n"
     ]
    },
    {
     "name": "stdout",
     "output_type": "stream",
     "text": [
      "t=0.17s\n",
      "  Solving nonlinear variational problem.\n",
      "    Newton iteration 0: r (abs) = 1.969e+00 (tol = 1.000e-12) r (rel) = 1.000e+00 (tol = 1.000e-12)\n",
      "    Newton iteration 1: r (abs) = 5.602e-03 (tol = 1.000e-12) r (rel) = 2.845e-03 (tol = 1.000e-12)\n",
      "    Newton iteration 2: r (abs) = 1.290e-07 (tol = 1.000e-12) r (rel) = 6.553e-08 (tol = 1.000e-12)\n",
      "    Newton iteration 3: r (abs) = 7.924e-14 (tol = 1.000e-12) r (rel) = 4.024e-14 (tol = 1.000e-12)\n",
      "    Newton solver finished in 3 iterations and 3 linear solver iterations.\n",
      "t=0.18s\n",
      "  Solving nonlinear variational problem.\n",
      "t=0.19s\n",
      "    Newton iteration 0: r (abs) = 2.998e+00 (tol = 1.000e-12) r (rel) = 1.000e+00 (tol = 1.000e-12)\n",
      "    Newton iteration 1: r (abs) = 6.449e-03 (tol = 1.000e-12) r (rel) = 2.151e-03 (tol = 1.000e-12)\n",
      "    Newton iteration 2: r (abs) = 1.491e-07 (tol = 1.000e-12) r (rel) = 4.974e-08 (tol = 1.000e-12)\n",
      "    Newton iteration 3: r (abs) = 1.461e-13 (tol = 1.000e-12) r (rel) = 4.874e-14 (tol = 1.000e-12)\n",
      "    Newton solver finished in 3 iterations and 3 linear solver iterations.\n",
      "  Solving nonlinear variational problem.\n",
      "    Newton iteration 0: r (abs) = 4.291e+00 (tol = 1.000e-12) r (rel) = 1.000e+00 (tol = 1.000e-12)\n",
      "    Newton iteration 1: r (abs) = 7.685e-03 (tol = 1.000e-12) r (rel) = 1.791e-03 (tol = 1.000e-12)\n",
      "    Newton iteration 2: r (abs) = 1.921e-07 (tol = 1.000e-12) r (rel) = 4.478e-08 (tol = 1.000e-12)\n",
      "    Newton iteration 3: r (abs) = 2.138e-13 (tol = 1.000e-12) r (rel) = 4.982e-14 (tol = 1.000e-12)\n",
      "    Newton solver finished in 3 iterations and 3 linear solver iterations.\n",
      "t=0.20s\n",
      "  Solving nonlinear variational problem.\n",
      "    Newton iteration 0: r (abs) = 5.669e+00 (tol = 1.000e-12) r (rel) = 1.000e+00 (tol = 1.000e-12)\n",
      "    Newton iteration 1: r (abs) = 9.071e-03 (tol = 1.000e-12) r (rel) = 1.600e-03 (tol = 1.000e-12)\n",
      "    Newton iteration 2: r (abs) = 2.450e-07 (tol = 1.000e-12) r (rel) = 4.322e-08 (tol = 1.000e-12)\n",
      "    Newton iteration 3: r (abs) = 2.841e-13 (tol = 1.000e-12) r (rel) = 5.011e-14 (tol = 1.000e-12)\n",
      "    Newton solver finished in 3 iterations and 3 linear solver iterations.\n",
      "t=0.21s\n",
      "  Solving nonlinear variational problem.\n",
      "    Newton iteration 0: r (abs) = 7.084e+00 (tol = 1.000e-12) r (rel) = 1.000e+00 (tol = 1.000e-12)\n",
      "    Newton iteration 1: r (abs) = 1.048e-02 (tol = 1.000e-12) r (rel) = 1.480e-03 (tol = 1.000e-12)\n",
      "    Newton iteration 2: r (abs) = 3.046e-07 (tol = 1.000e-12) r (rel) = 4.300e-08 (tol = 1.000e-12)\n",
      "    Newton iteration 3: r (abs) = 3.536e-13 (tol = 1.000e-12) r (rel) = 4.991e-14 (tol = 1.000e-12)\n",
      "    Newton solver finished in 3 iterations and 3 linear solver iterations.\n",
      "t=0.22s\n",
      "  Solving nonlinear variational problem.\n",
      "    Newton iteration 0: r (abs) = 8.519e+00 (tol = 1.000e-12) r (rel) = 1.000e+00 (tol = 1.000e-12)\n",
      "    Newton iteration 1: r (abs) = 1.185e-02 (tol = 1.000e-12) r (rel) = 1.391e-03 (tol = 1.000e-12)\n",
      "    Newton iteration 2: r (abs) = 3.714e-07 (tol = 1.000e-12) r (rel) = 4.360e-08 (tol = 1.000e-12)\n",
      "    Newton iteration 3: r (abs) = 4.158e-13 (tol = 1.000e-12) r (rel) = 4.881e-14 (tol = 1.000e-12)\n",
      "    Newton solver finished in 3 iterations and 3 linear solver iterations.\n",
      "t=0.23s\n",
      "  Solving nonlinear variational problem.\n",
      "t=0.24s\n",
      "    Newton iteration 0: r (abs) = 9.964e+00 (tol = 1.000e-12) r (rel) = 1.000e+00 (tol = 1.000e-12)\n",
      "    Newton iteration 1: r (abs) = 1.315e-02 (tol = 1.000e-12) r (rel) = 1.319e-03 (tol = 1.000e-12)\n",
      "    Newton iteration 2: r (abs) = 4.479e-07 (tol = 1.000e-12) r (rel) = 4.496e-08 (tol = 1.000e-12)\n",
      "    Newton iteration 3: r (abs) = 4.890e-13 (tol = 1.000e-12) r (rel) = 4.908e-14 (tol = 1.000e-12)\n",
      "    Newton solver finished in 3 iterations and 3 linear solver iterations.\n",
      "  Solving nonlinear variational problem.\n",
      "    Newton iteration 0: r (abs) = 1.142e+01 (tol = 1.000e-12) r (rel) = 1.000e+00 (tol = 1.000e-12)\n",
      "    Newton iteration 1: r (abs) = 1.435e-02 (tol = 1.000e-12) r (rel) = 1.257e-03 (tol = 1.000e-12)\n",
      "    Newton iteration 2: r (abs) = 5.470e-07 (tol = 1.000e-12) r (rel) = 4.792e-08 (tol = 1.000e-12)\n",
      "    Newton iteration 3: r (abs) = 5.699e-13 (tol = 1.000e-12) r (rel) = 4.992e-14 (tol = 1.000e-12)\n",
      "    Newton solver finished in 3 iterations and 3 linear solver iterations.\n",
      "t=0.25s\n",
      "  Solving nonlinear variational problem.\n",
      "    Newton iteration 0: r (abs) = 1.287e+01 (tol = 1.000e-12) r (rel) = 1.000e+00 (tol = 1.000e-12)\n",
      "    Newton iteration 1: r (abs) = 1.546e-02 (tol = 1.000e-12) r (rel) = 1.201e-03 (tol = 1.000e-12)\n",
      "    Newton iteration 2: r (abs) = 7.001e-07 (tol = 1.000e-12) r (rel) = 5.439e-08 (tol = 1.000e-12)\n",
      "    Newton iteration 3: r (abs) = 6.298e-13 (tol = 1.000e-12) r (rel) = 4.893e-14 (tol = 1.000e-12)\n",
      "    Newton solver finished in 3 iterations and 3 linear solver iterations.\n",
      "t=0.26s\n",
      "  Solving nonlinear variational problem.\n",
      "    Newton iteration 0: r (abs) = 1.433e+01 (tol = 1.000e-12) r (rel) = 1.000e+00 (tol = 1.000e-12)\n",
      "    Newton iteration 1: r (abs) = 1.650e-02 (tol = 1.000e-12) r (rel) = 1.151e-03 (tol = 1.000e-12)\n",
      "    Newton iteration 2: r (abs) = 9.689e-07 (tol = 1.000e-12) r (rel) = 6.760e-08 (tol = 1.000e-12)\n",
      "    Newton iteration 3: r (abs) = 7.172e-13 (tol = 1.000e-12) r (rel) = 5.004e-14 (tol = 1.000e-12)\n",
      "    Newton solver finished in 3 iterations and 3 linear solver iterations.\n",
      "t=0.27s\n",
      "  Solving nonlinear variational problem.\n",
      "    Newton iteration 0: r (abs) = 1.579e+01 (tol = 1.000e-12) r (rel) = 1.000e+00 (tol = 1.000e-12)\n",
      "    Newton iteration 1: r (abs) = 1.751e-02 (tol = 1.000e-12) r (rel) = 1.108e-03 (tol = 1.000e-12)\n",
      "    Newton iteration 2: r (abs) = 1.467e-06 (tol = 1.000e-12) r (rel) = 9.288e-08 (tol = 1.000e-12)\n",
      "    Newton iteration 3: r (abs) = 7.735e-13 (tol = 1.000e-12) r (rel) = 4.897e-14 (tol = 1.000e-12)\n",
      "    Newton solver finished in 3 iterations and 3 linear solver iterations.\n",
      "t=0.28s\n",
      "  Solving nonlinear variational problem.\n",
      "    Newton iteration 0: r (abs) = 1.726e+01 (tol = 1.000e-12) r (rel) = 1.000e+00 (tol = 1.000e-12)\n",
      "    Newton iteration 1: r (abs) = 1.867e-02 (tol = 1.000e-12) r (rel) = 1.082e-03 (tol = 1.000e-12)\n",
      "    Newton iteration 2: r (abs) = 2.413e-06 (tol = 1.000e-12) r (rel) = 1.398e-07 (tol = 1.000e-12)\n",
      "    Newton iteration 3: r (abs) = 8.621e-13 (tol = 1.000e-12) r (rel) = 4.995e-14 (tol = 1.000e-12)\n",
      "    Newton solver finished in 3 iterations and 3 linear solver iterations.\n",
      "t=0.29s\n",
      "  Solving nonlinear variational problem.\n",
      "    Newton iteration 0: r (abs) = 1.873e+01 (tol = 1.000e-12) r (rel) = 1.000e+00 (tol = 1.000e-12)\n",
      "    Newton iteration 1: r (abs) = 2.047e-02 (tol = 1.000e-12) r (rel) = 1.093e-03 (tol = 1.000e-12)\n",
      "    Newton iteration 2: r (abs) = 4.264e-06 (tol = 1.000e-12) r (rel) = 2.277e-07 (tol = 1.000e-12)\n",
      "    Newton iteration 3: r (abs) = 1.120e-12 (tol = 1.000e-12) r (rel) = 5.979e-14 (tol = 1.000e-12)\n",
      "    Newton solver finished in 3 iterations and 3 linear solver iterations.\n",
      "t=0.30s\n",
      "  Solving nonlinear variational problem.\n",
      "    Newton iteration 0: r (abs) = 2.019e+01 (tol = 1.000e-12) r (rel) = 1.000e+00 (tol = 1.000e-12)\n",
      "    Newton iteration 1: r (abs) = 2.405e-02 (tol = 1.000e-12) r (rel) = 1.191e-03 (tol = 1.000e-12)\n",
      "    Newton iteration 2: r (abs) = 7.848e-06 (tol = 1.000e-12) r (rel) = 3.886e-07 (tol = 1.000e-12)\n",
      "    Newton iteration 3: r (abs) = 4.864e-12 (tol = 1.000e-12) r (rel) = 2.409e-13 (tol = 1.000e-12)\n",
      "    Newton solver finished in 3 iterations and 3 linear solver iterations.\n",
      "ellapsed =  479.4388430118561 s\n"
     ]
    }
   ],
   "source": [
    "tick = time()\n",
    "t = 0.0\n",
    "(u, p) = w.split(True)\n",
    "u.rename(\"v\", \"velocity\")\n",
    "p.rename(\"p\", \"pressure\")\n",
    "df.assign(u, w.sub(0))\n",
    "df.assign(p, w.sub(1))\n",
    "ufile.write(u, t)\n",
    "pfile.write(p, t)\n",
    "while t < t_end:\n",
    "    w0.assign(w)\n",
    "    t += dt\n",
    "    print(\"t={:.2f}s\".format(t))\n",
    "    inlet_expression.v = velocity(t)\n",
    "    solver.solve()\n",
    "    df.assign(u, w.sub(0))\n",
    "    df.assign(p, w.sub(1))\n",
    "    ufile.write(u, t)\n",
    "    pfile.write(p, t)\n",
    "print(\"ellapsed = \", time() - tick, \"s\")"
   ]
  },
  {
   "cell_type": "code",
   "execution_count": null,
   "id": "aaa7457b",
   "metadata": {},
   "outputs": [],
   "source": []
  }
 ],
 "metadata": {
  "kernelspec": {
   "display_name": "Python 3 (ipykernel)",
   "language": "python",
   "name": "python3"
  },
  "language_info": {
   "codemirror_mode": {
    "name": "ipython",
    "version": 3
   },
   "file_extension": ".py",
   "mimetype": "text/x-python",
   "name": "python",
   "nbconvert_exporter": "python",
   "pygments_lexer": "ipython3",
   "version": "3.8.6"
  }
 },
 "nbformat": 4,
 "nbformat_minor": 5
}
