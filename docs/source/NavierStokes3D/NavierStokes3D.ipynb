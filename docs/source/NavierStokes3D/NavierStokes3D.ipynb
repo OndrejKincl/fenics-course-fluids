{
 "cells": [
  {
   "cell_type": "markdown",
   "id": "dc6bde15",
   "metadata": {},
   "source": [
    "# Navier Stokes - blood flow simulation"
   ]
  },
  {
   "cell_type": "markdown",
   "id": "2eca062f",
   "metadata": {},
   "source": [
    "## Formulation\n",
    "\n",
    "In this example we present a bloodflow simulation in a 3D geometry and we demonstrate how to prescribe a time dependent expression as a Dirichlet boundary condition.\n",
    "![Mesh](fig/aneurysm.png \"Mesh\")"
   ]
  },
  {
   "cell_type": "markdown",
   "id": "5a45f8b3",
   "metadata": {},
   "source": [
    "## Implementation\n",
    "Again, we need to import the neccessary packages."
   ]
  },
  {
   "cell_type": "code",
   "execution_count": 24,
   "id": "13731287",
   "metadata": {},
   "outputs": [],
   "source": [
    "import dolfin as df\n",
    "import numpy as np\n",
    "from time import time"
   ]
  },
  {
   "cell_type": "markdown",
   "id": "70155c2a",
   "metadata": {},
   "source": [
    "Next, we read the mesh from the file and create the boundary markings since ```.xml``` files do not include them."
   ]
  },
  {
   "cell_type": "code",
   "execution_count": 25,
   "id": "95a50945",
   "metadata": {},
   "outputs": [],
   "source": [
    "mesh = df.Mesh(\"bifurcation.xml\")\n",
    "dim = mesh.topology().dim()\n",
    "bndry = df.MeshFunction(\"size_t\", mesh, dim-1, 0)\n",
    "mesh.init()\n",
    "\n",
    "points = [np.array([-0.9, 0.0, 0.0]), np.array([0.6, 0.0, 0.6]), np.array([0.6, 0.0, -0.6])]\n",
    "normals = [np.array([-1.0, 0.0, 0.0]), np.array([np.sqrt(2), 0.0, np.sqrt(2)]), np.array([np.sqrt(2), 0.0, -np.sqrt(2)])]\n",
    "for f in df.facets(mesh):\n",
    "    bndry[f] = 0\n",
    "    if f.exterior():\n",
    "        bndry[f] = 1\n",
    "        x = f.midpoint().array()[:dim]\n",
    "        for mark, point, normal in zip([2,3,4], points, normals):\n",
    "            if abs(np.dot(x-point, normal)) <= 0.001:\n",
    "                bndry[f] = mark"
   ]
  },
  {
   "cell_type": "markdown",
   "id": "0fffbaf8",
   "metadata": {},
   "source": [
    "Now we define the function spaces for MINI element."
   ]
  },
  {
   "cell_type": "code",
   "execution_count": 26,
   "id": "903128a5",
   "metadata": {},
   "outputs": [],
   "source": [
    "U = df.FiniteElement(\"CG\", mesh.ufl_cell(), 1)\n",
    "B = df.FiniteElement(\"Bubble\", mesh.ufl_cell(), dim + 1)\n",
    "P = df.FiniteElement(\"CG\", mesh.ufl_cell(), 1)\n",
    "V = df.VectorElement(df.NodalEnrichedElement(U, B))\n",
    "W = df.FunctionSpace(mesh, df.MixedElement([V, P]))"
   ]
  },
  {
   "cell_type": "markdown",
   "id": "b0877e03",
   "metadata": {},
   "source": [
    "Let us define some parameters and constants. Here you can see an approximate values of density and viscosity of blood."
   ]
  },
  {
   "cell_type": "code",
   "execution_count": 27,
   "id": "cc48cda9",
   "metadata": {},
   "outputs": [],
   "source": [
    "mu = df.Constant(0.04) # Pa*s\n",
    "rho = df.Constant(1.05) # g/cm^3\n",
    "theta = df.Constant(0.5)\n",
    "dt = 0.01\n",
    "t_end = 0.35\n",
    "t = 0.0"
   ]
  },
  {
   "cell_type": "markdown",
   "id": "61126c6f",
   "metadata": {},
   "source": [
    "Then we can define the boundary conditions as no slip on the wall and parabolic expression at the inlet. Notice that the average inflow velocity is now prescribed using a function of time. "
   ]
  },
  {
   "cell_type": "code",
   "execution_count": 28,
   "id": "df5aca61",
   "metadata": {},
   "outputs": [],
   "source": [
    "zero_vector = df.Constant((0.0, 0.0, 0.0))\n",
    "bc_walls = df.DirichletBC(W.sub(0), zero_vector, bndry, 1)\n",
    "\n",
    "velocity = lambda t: 0.6*max((t*(0.3-t))/pow(0.15,2), 0.0)\n",
    "inlet_expression = df.Expression((\"v * 2.0 * (pow(R,2) - pow(x[0]+0.9,2) - pow(x[1],2) - pow(x[2],2)) / pow(R,2)\", \"0.0\", \"0.0\"), R=0.15, v=velocity(t), degree=2)\n",
    "bc_in = df.DirichletBC(W.sub(0), inlet_expression, bndry, 2)\n",
    "\n",
    "bcs = [bc_in, bc_walls]"
   ]
  },
  {
   "cell_type": "markdown",
   "id": "ad41680e",
   "metadata": {},
   "source": [
    "Then we can define the variational problem the same way as in the previous examples."
   ]
  },
  {
   "cell_type": "code",
   "execution_count": 29,
   "id": "fe05527e",
   "metadata": {},
   "outputs": [],
   "source": [
    "v, q = df.TestFunctions(W)\n",
    "w = df.Function(W)\n",
    "w0 = df.Function(W)\n",
    "u, p = df.split(w)\n",
    "u0, p0 = df.split(w0)\n",
    "\n",
    "a = lambda u, v: rho*df.inner(df.grad(u)*u, v)*df.dx + mu*df.inner(df.grad(u), df.grad(v))*df.dx\n",
    "b = lambda q, v: q*df.div(v)*df.dx\n",
    "\n",
    "F1 = a(u, v) - b(p, v) - b(q, u)\n",
    "F0 = a(u0, v) - b(p, v) - b(q, u)\n",
    "\n",
    "# time derivative\n",
    "F = df.Constant(1.0/dt)*rho*df.inner((u-u0), v)*df.dx + theta*F1 + (1-theta)*F0\n",
    "\n",
    "# Jacobi matrix\n",
    "J = df.derivative(F, w)"
   ]
  },
  {
   "cell_type": "markdown",
   "id": "a9420400",
   "metadata": {},
   "source": [
    "Setting up nonlinear variational solver."
   ]
  },
  {
   "cell_type": "code",
   "execution_count": 30,
   "id": "f297530f",
   "metadata": {},
   "outputs": [],
   "source": [
    "problem = df.NonlinearVariationalProblem(F, w, bcs, J)\n",
    "solver = df.NonlinearVariationalSolver(problem)\n",
    "solver.parameters['newton_solver']['linear_solver'] = 'mumps'\n",
    "solver.parameters['newton_solver']['absolute_tolerance'] = 1e-8\n",
    "solver.parameters['newton_solver']['relative_tolerance'] = 1e-6"
   ]
  },
  {
   "cell_type": "markdown",
   "id": "00122da4",
   "metadata": {},
   "source": [
    "Setup files to save results for viewing in Paraview."
   ]
  },
  {
   "cell_type": "code",
   "execution_count": 31,
   "id": "9bc06ca8",
   "metadata": {},
   "outputs": [],
   "source": [
    "ufile = df.XDMFFile(\"results/u.xdmf\")\n",
    "pfile = df.XDMFFile(\"results/p.xdmf\")\n",
    "ufile.parameters[\"flush_output\"] = True\n",
    "pfile.parameters[\"flush_output\"] = True"
   ]
  },
  {
   "cell_type": "markdown",
   "id": "717a2237",
   "metadata": {},
   "source": [
    "Again, we go over all the timesteps and solve for velocity and pressure at each of them."
   ]
  },
  {
   "cell_type": "code",
   "execution_count": null,
   "id": "5e1ca70f",
   "metadata": {},
   "outputs": [],
   "source": [
    "tick = time()\n",
    "t = 0.0\n",
    "(u, p) = w.split(True)\n",
    "u.rename(\"v\", \"velocity\")\n",
    "p.rename(\"p\", \"pressure\")\n",
    "df.assign(u, w.sub(0))\n",
    "df.assign(p, w.sub(1))\n",
    "ufile.write(u, t)\n",
    "pfile.write(p, t)\n",
    "while t < t_end:\n",
    "    w0.assign(w)\n",
    "    t += dt\n",
    "    print(\"t={:.2f}s\".format(t))\n",
    "    inlet_expression.v = velocity(t)\n",
    "    solver.solve()\n",
    "    df.assign(u, w.sub(0))\n",
    "    df.assign(p, w.sub(1))\n",
    "    ufile.write(u, t)\n",
    "    pfile.write(p, t)\n",
    "print(\"ellapsed = \", time() - tick, \"s\")"
   ]
  },
  {
   "cell_type": "markdown",
   "id": "0efae498",
   "metadata": {},
   "source": [
    "## Complete Code\n",
    "\n",
    "Run the code using the command ```python3 NavierStokes3D.py```."
   ]
  },
  {
   "cell_type": "code",
   "execution_count": null,
   "id": "996651af",
   "metadata": {},
   "outputs": [],
   "source": [
    "import dolfin as df\n",
    "import numpy as np\n",
    "from time import time\n",
    "\n",
    "mesh = df.Mesh(\"bifurcation.xml\")\n",
    "dim = mesh.topology().dim()\n",
    "bndry = df.MeshFunction(\"size_t\", mesh, dim-1, 0)\n",
    "mesh.init()\n",
    "\n",
    "points = [np.array([-0.9, 0.0, 0.0]), np.array([0.6, 0.0, 0.6]), np.array([0.6, 0.0, -0.6])]\n",
    "normals = [np.array([-1.0, 0.0, 0.0]), np.array([np.sqrt(2), 0.0, np.sqrt(2)]), np.array([np.sqrt(2), 0.0, -np.sqrt(2)])]\n",
    "for f in df.facets(mesh):\n",
    "    bndry[f] = 0\n",
    "    if f.exterior():\n",
    "        bndry[f] = 1\n",
    "        x = f.midpoint().array()[:dim]\n",
    "        for mark, point, normal in zip([2,3,4], points, normals):\n",
    "            if abs(np.dot(x-point, normal)) <= 0.001:\n",
    "                bndry[f] = mark\n",
    "\n",
    "U = df.FiniteElement(\"CG\", mesh.ufl_cell(), 1)\n",
    "B = df.FiniteElement(\"Bubble\", mesh.ufl_cell(), dim + 1)\n",
    "P = df.FiniteElement(\"CG\", mesh.ufl_cell(), 1)\n",
    "V = df.VectorElement(df.NodalEnrichedElement(U, B))\n",
    "W = df.FunctionSpace(mesh, df.MixedElement([V, P]))\n",
    "\n",
    "mu = df.Constant(0.04) # Pa*s\n",
    "rho = df.Constant(1.05) # g/cm^3\n",
    "theta = df.Constant(0.5)\n",
    "dt = 0.01\n",
    "t_end = 0.35\n",
    "t = 0.0\n",
    "\n",
    "zero_vector = df.Constant((0.0, 0.0, 0.0))\n",
    "bc_walls = df.DirichletBC(W.sub(0), zero_vector, bndry, 1)\n",
    "\n",
    "velocity = lambda t: 0.6*max((t*(0.3-t))/pow(0.15,2), 0.0)\n",
    "inlet_expression = df.Expression((\"v * 2.0 * (pow(R,2) - pow(x[0]+0.9,2) - pow(x[1],2) - pow(x[2],2)) / pow(R,2)\", \"0.0\", \"0.0\"), R=0.15, v=velocity(t), degree=2)\n",
    "bc_in = df.DirichletBC(W.sub(0), inlet_expression, bndry, 2)\n",
    "\n",
    "bcs = [bc_in, bc_walls]\n",
    "\n",
    "v, q = df.TestFunctions(W)\n",
    "w = df.Function(W)\n",
    "w0 = df.Function(W)\n",
    "u, p = df.split(w)\n",
    "u0, p0 = df.split(w0)\n",
    "\n",
    "a = lambda u, v: rho*df.inner(df.grad(u)*u, v)*df.dx + mu*df.inner(df.grad(u), df.grad(v))*df.dx\n",
    "b = lambda q, v: q*df.div(v)*df.dx\n",
    "\n",
    "F1 = a(u, v) - b(p, v) - b(q, u)\n",
    "F0 = a(u0, v) - b(p, v) - b(q, u)\n",
    "\n",
    "# time derivative\n",
    "F = df.Constant(1.0/dt)*rho*df.inner((u-u0), v)*df.dx + theta*F1 + (1-theta)*F0\n",
    "\n",
    "# Jacobi matrix\n",
    "J = df.derivative(F, w)\n",
    "\n",
    "problem = df.NonlinearVariationalProblem(F, w, bcs, J)\n",
    "solver = df.NonlinearVariationalSolver(problem)\n",
    "solver.parameters['newton_solver']['linear_solver'] = 'mumps'\n",
    "solver.parameters['newton_solver']['absolute_tolerance'] = 1e-8\n",
    "solver.parameters['newton_solver']['relative_tolerance'] = 1e-6\n",
    "\n",
    "ufile = df.XDMFFile(\"results/u.xdmf\")\n",
    "pfile = df.XDMFFile(\"results/p.xdmf\")\n",
    "ufile.parameters[\"flush_output\"] = True\n",
    "pfile.parameters[\"flush_output\"] = True\n",
    "\n",
    "tick = time()\n",
    "t = 0.0\n",
    "(u, p) = w.split(True)\n",
    "u.rename(\"v\", \"velocity\")\n",
    "p.rename(\"p\", \"pressure\")\n",
    "df.assign(u, w.sub(0))\n",
    "df.assign(p, w.sub(1))\n",
    "ufile.write(u, t)\n",
    "pfile.write(p, t)\n",
    "while t < t_end:\n",
    "    w0.assign(w)\n",
    "    t += dt\n",
    "    print(\"t={:.2f}s\".format(t))\n",
    "    inlet_expression.v = velocity(t)\n",
    "    solver.solve()\n",
    "    df.assign(u, w.sub(0))\n",
    "    df.assign(p, w.sub(1))\n",
    "    ufile.write(u, t)\n",
    "    pfile.write(p, t)\n",
    "print(\"ellapsed = \", time() - tick, \"s\")"
   ]
  }
 ],
 "metadata": {
  "kernelspec": {
   "display_name": "Python 3 (ipykernel)",
   "language": "python",
   "name": "python3"
  },
  "language_info": {
   "codemirror_mode": {
    "name": "ipython",
    "version": 3
   },
   "file_extension": ".py",
   "mimetype": "text/x-python",
   "name": "python",
   "nbconvert_exporter": "python",
   "pygments_lexer": "ipython3",
   "version": "3.8.6"
  }
 },
 "nbformat": 4,
 "nbformat_minor": 5
}
