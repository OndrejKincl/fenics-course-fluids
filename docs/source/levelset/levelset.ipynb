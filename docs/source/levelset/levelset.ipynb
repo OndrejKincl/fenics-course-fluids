{
 "cells": [
  {
   "cell_type": "markdown",
   "metadata": {},
   "source": [
    "# Level-set method\n",
    "***"
   ]
  },
  {
   "attachments": {},
   "cell_type": "markdown",
   "metadata": {},
   "source": [
    "## Introduction\n",
    "The level-set method is a method designed for modeling material interaction. The main idea is based on a function $l$, which satisfies the following.\n",
    "\n",
    "$$ l(x) \\begin{cases}\n",
    "         > 0 \\text{ if } x \\in \\Omega_1 \\\\\n",
    "         < 0 \\text{ in } x \\in \\Omega_2\n",
    "    \\end{cases}. $$\n",
    "\n",
    "We will focus only on the interaction between two incompressible Navier-Stokes equations with different\n",
    "constant parameters $\\rho_i, \\mu_i \\in \\Omega_i$ for $i  \\in  \\{ 1, 2 \\}$. The function $l$ allows us to define\n",
    "viscosity $\\mu$ and density $\\rho$ in the whole domain $\\Omega$ as a single\n",
    "function\n",
    "$$ \\mu(l) = \\frac{1}{2}(\\text{sign}(l) + 1)\\mu_1 + \\frac{1}{2}(\\text{sign}(l) - 1) \\mu_2 $$ \n",
    "and\n",
    "$$ \\rho(l) = \\frac{1}{2}(\\text{sign}(l) + 1)\\rho_1 + \\frac{1}{2}(\\text{sign}(l) - 1) \\rho_2.$$\n",
    "Because we would like to solve the evolution problem, the $\\Omega_i$ and the function $l$\n",
    "have to depend on time. We want $l$ to be constant along streamlines for the prescribed velocity field $v$.\n",
    "This condition is satisfied if\n",
    "$$ \\partial_t l(x, t) + \\text{div}(l(x, t) v(x,  t)) = 0. $$\n",
    "We can now formulate the whole system, firstly in the strong sense.\n",
    "$$ \\rho(l) \\left( \\partial_t v + (v \\cdot \\nabla) v \\right)  = \\text{div}\\left(\\mathbb{T}(\\mu(l), \\nabla v)\\right) + \\rho(l)g,$$\n",
    "\n",
    "$$ \\mathbb{T}(\\mu(l), \\nabla v) = \\mu(l)\\left( \\nabla v + (\\nabla v)^T \\right) - p\\mathbb{I}, $$\n",
    "\n",
    "$$ \\partial_t l + \\text{div}(l v) = 0, $$\n",
    "\n",
    "$$ \\text{div}(v) = 0. $$"
   ]
  },
  {
   "attachments": {},
   "cell_type": "markdown",
   "metadata": {},
   "source": [
    "In this example, we will keep parameters separate from the rest of the code. This allows us to use the code easily for different problems. For that purpose, we create a Python class containing the data.\n",
    "\n",
    "## Implementation"
   ]
  },
  {
   "cell_type": "code",
   "execution_count": null,
   "metadata": {},
   "outputs": [],
   "source": [
    "from types import FunctionType  # This is how function in python in called. \n",
    "from dataclasses import dataclass  # Decorator\n",
    "import dolfin as df\n",
    "\n",
    "\n",
    "@dataclass\n",
    "class Parameters():\n",
    "    # Material Parametes\n",
    "    mu1: float\n",
    "    mu2: float\n",
    "    rho1: float\n",
    "    rho2: float\n",
    "    eps: float\n",
    "    g: df.Constant  # inner force\n",
    "    # time parameters\n",
    "    dt: float\n",
    "    t_start: float\n",
    "    t_end: float\n",
    "    \n",
    "    mesh: df.Mesh\n",
    "    function_space: df.FunctionSpace\n",
    "    bcs: list\n",
    "    initial_conditions: df.Function\n",
    "    sign: FunctionType\n"
   ]
  },
  {
   "attachments": {},
   "cell_type": "markdown",
   "metadata": {},
   "source": [
    "Now we start writing the main file. Firstly we create viscosity and density functions."
   ]
  },
  {
   "cell_type": "code",
   "execution_count": null,
   "metadata": {},
   "outputs": [],
   "source": [
    "# formulate equations\n",
    "def rho(params: Parameters, l: df.Function, eps: float):\n",
    "    \"\"\"_summary_\n",
    "\n",
    "    Args:\n",
    "        rho1 (float): _description_\n",
    "        rho2 (float): _description_\n",
    "        l (df.Function): _description_\n",
    "        eps (float): _description_\n",
    "\n",
    "    Returns:\n",
    "        ufl.classes.Expr: _description_\n",
    "    \"\"\"\n",
    "    return (\n",
    "        params.rho1 * 0.5* (1.0 + params.sign(l, eps))\n",
    "        + params.rho2 * 0.5 * (1.0 - params.sign(l, eps))\n",
    "    )\n",
    "\n",
    "\n",
    "def mu(params: Parameters, l: df.Function, eps: float):\n",
    "    \"\"\"_summary_\n",
    "\n",
    "    Args:\n",
    "        params.mu1 (float): _description_\n",
    "        mu2 (float): _description_\n",
    "        l (df.Function): _description_\n",
    "        eps (float): _description_\n",
    "\n",
    "    Returns:\n",
    "        ufl.classes.Expr: _description_\n",
    "    \"\"\"\n",
    "    return (\n",
    "        params.mu1 * 0.5 * (1.0 + params.sign(l, eps))\n",
    "        + params.mu2 * 0.5 * (1.0 - params.sign(l, eps))\n",
    "    )"
   ]
  },
  {
   "attachments": {},
   "cell_type": "markdown",
   "metadata": {},
   "source": [
    "Then we define functions on the function space."
   ]
  },
  {
   "cell_type": "code",
   "execution_count": null,
   "metadata": {},
   "outputs": [],
   "source": [
    "# Define function spaces\n",
    "function_space = params.function_space\n",
    "w = df.Function(function_space)  # unknown\n",
    "w0 = df.Function(function_space)  # from previous step\n",
    "phi = df.TestFunction(function_space)\n",
    "\n",
    "# Split functions\n",
    "v, p, l = df.split(w)\n",
    "v0, p0, l0 = df.split(w0)\n",
    "phi_v, phi_p, phi_l = df.split(phi)"
   ]
  },
  {
   "attachments": {},
   "cell_type": "markdown",
   "metadata": {},
   "source": [
    "The weak formulation of the problem can be formulated in the following way."
   ]
  },
  {
   "cell_type": "code",
   "execution_count": null,
   "metadata": {},
   "outputs": [],
   "source": [
    "n = df.FacetNormal(params.mesh)\n",
    "h = df.CellDiameter(params.mesh)\n",
    "h_avg = (h('+') + h('-'))/2.0\n",
    "alpha = df.Constant(0.1)\n",
    "\n",
    "cauchy_green = (\n",
    "    2*mu(params, l, params.eps)*(df.grad(v) + df.grad(v).T)\n",
    "    - p*df.Identity(params.mesh.topology().dim())\n",
    ")\n",
    "\n",
    "material_detivative = (\n",
    "    (1/params.dt)*df.inner(v - v0, phi_v)  # partial time derivative\n",
    "    + df.inner(df.grad(v)*v, phi_v)  # convective therm\n",
    ")\n",
    "\n",
    "momentum = (\n",
    "    rho(params, l, params.eps)*material_detivative*df.dx\n",
    "    + df.inner(cauchy_green, df.grad(phi_v))*df.dx\n",
    "    - rho(params, l, params.eps)\n",
    "    *df.inner(params.g, phi_v)*df.dx\n",
    ")\n",
    "\n",
    "mass = (\n",
    "    df.div(v)*phi_p*df.dx\n",
    ")\n",
    "\n",
    "levelset_convection = (\n",
    "    (1/params.dt)*df.inner(l - l0, phi_l)*df.dx\n",
    "    + df.div(l*v)*phi_l*df.dx\n",
    ")\n",
    "\n",
    "stabilization = (\n",
    "    alpha('+')*(h_avg**2)\n",
    "    *df.inner(df.jump(df.grad(l), n), df.jump(df.grad(phi_l), n))*df.dS\n",
    ")\n",
    "\n",
    "pde_form = momentum + mass + levelset_convection + stabilization"
   ]
  },
  {
   "attachments": {},
   "cell_type": "markdown",
   "metadata": {},
   "source": [
    "Further, we define the Newton solver."
   ]
  },
  {
   "cell_type": "code",
   "execution_count": null,
   "metadata": {},
   "outputs": [],
   "source": [
    "# Set Newton-solver\n",
    "J = df.derivative(pde_form, w)\n",
    "ffc_options = {\n",
    "    \"quadrature_degree\": 4,\n",
    "    \"optimize\": True,\n",
    "    \"eliminate_zeros\": True\n",
    "}\n",
    "\n",
    "problem = df.NonlinearVariationalProblem(pde_form, w, params.bcs, J, ffc_options)\n",
    "solver = df.NonlinearVariationalSolver(problem)\n",
    "prm = solver.parameters\n",
    "\n",
    "prm['nonlinear_solver'] = 'newton'\n",
    "prm['newton_solver']['linear_solver'] = 'mumps'\n",
    "prm['newton_solver']['lu_solver']['report'] = False\n",
    "prm['newton_solver']['absolute_tolerance'] = 1E-10\n",
    "prm['newton_solver']['relative_tolerance'] = 1E-10\n",
    "prm['newton_solver']['maximum_iterations'] = 20\n",
    "prm['newton_solver']['report'] = True"
   ]
  },
  {
   "attachments": {},
   "cell_type": "markdown",
   "metadata": {},
   "source": [
    "We create the XDMF files for storing the results."
   ]
  },
  {
   "cell_type": "code",
   "execution_count": null,
   "metadata": {},
   "outputs": [],
   "source": [
    "# Initialize the files for writing the results\n",
    "files = []\n",
    "for name in ['v', 'p', 'l']:\n",
    "    with df.XDMFFile(df.MPI.comm_world, f\"result/{name}.xdmf\") as xdmf:\n",
    "        xdmf.parameters[\"flush_output\"] = True\n",
    "        files.append(xdmf)"
   ]
  },
  {
   "attachments": {},
   "cell_type": "markdown",
   "metadata": {},
   "source": [
    "Finally, we iterate over the time steps until the t_end is not reached."
   ]
  },
  {
   "cell_type": "code",
   "execution_count": null,
   "metadata": {},
   "outputs": [],
   "source": [
    "t = params.t_start\n",
    "while t < params.t_end:\n",
    "    df.info(f\"t = {t}\")\n",
    "    solver.solve()\n",
    "    w0.assign(w)\n",
    "    t += params.dt\n",
    "    # write the time-step into the file\n",
    "    for func, name, xdmf in zip(w.split(True), ['v', 'p', 'l'], files):\n",
    "        func.rename(name, name)\n",
    "        xdmf.write(func, t)"
   ]
  }
 ],
 "metadata": {
  "kernelspec": {
   "display_name": "Python 3",
   "language": "python",
   "name": "python3"
  },
  "language_info": {
   "name": "python",
   "version": "3.9.5 (default, Nov 23 2021, 15:27:38) \n[GCC 9.3.0]"
  },
  "orig_nbformat": 4,
  "vscode": {
   "interpreter": {
    "hash": "f9f85f796d01129d0dd105a088854619f454435301f6ffec2fea96ecbd9be4ac"
   }
  }
 },
 "nbformat": 4,
 "nbformat_minor": 2
}
