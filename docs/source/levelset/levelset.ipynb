{
 "cells": [
  {
   "attachments": {},
   "cell_type": "markdown",
   "metadata": {},
   "source": [
    "## Introduction\n",
    "The level-set method is a method designed for modeling material interaction. The\n",
    "main idea is based on a function $l$ for which holds\n",
    "\n",
    "$$\n",
    "    l(x) \\begin{cases}\n",
    "         > 0 \\text{ if } x \\in \\Omega_1 \\\\\n",
    "         < 0 \\text{ in } x \\in \\Omega_2\n",
    "    \\end{cases}.\n",
    "$$\n",
    "\n",
    "We will focus only on interaction between two incompressible Navier-Stokes equations with different\n",
    "constant parameters $\\rho_i, \\mu_i \\in \\Omega_i$ for $i  \\in  \\{ 1, 2 \\}$. The function $l$ allow us to define\n",
    "viscosity $\\mu$ and density $\\rho$ in the whole domain $\\Omega$ as a single\n",
    "function.\n",
    "$$\n",
    "    \\mu(l) = \\frac{1}{2}(\\text{sign}(l) + 1)\\mu_1 + \\frac{1}{2}(\\text{sign}(l) - 1)\\mu_2\n",
    "$$ \n",
    "$$\n",
    "    \\rho(l) = \\frac{1}{2}(\\text{sign}(l) + 1)\\rho_1 + \\frac{1}{2}(\\text{sign}(l) - 1)\\rho_2\n",
    "$$\n",
    "Because we would like to solve evolution problem the $\\Omega_i$ and the function $l$\n",
    "have to deppend on time. We want $l$ to be constant along streamlines for given velocity field $v$.\n",
    "This conditions is satisfied if \n",
    "$$\n",
    "    \\partial_t l(x, t) + \\text{div}(l(x, t) v(x,  t)) = 0.\n",
    "$$\n",
    "We can now formulate the whole system; firstly in the strong sense.\n",
    "$$\n",
    "    \\rho(l) \\left( \\partial_t v + (v \\cdot \\nabla) v \\right)  = \\text{div}\\left(\\mathbb{T}(\\mu(l), \\nabla v)\\right) + \\rho(l)g,\n",
    "$$\n",
    "\n",
    "$$\n",
    "    \\mathbb{T}(\\mu(l), \\nabla v) = \\mu(l)\\left( \\nabla v + (\\nabla v)^T \\right) - p\\mathbb{I},\n",
    "$$\n",
    "\n",
    "$$\n",
    "     \\partial_t l + \\text{div}(l v) = 0,\n",
    "$$\n",
    "\n",
    "$$\n",
    "    \\text{div}(v) = 0.\n",
    "$$"
   ]
  },
  {
   "cell_type": "markdown",
   "metadata": {},
   "source": []
  }
 ],
 "metadata": {
  "kernelspec": {
   "display_name": "Python 3",
   "language": "python",
   "name": "python3"
  },
  "language_info": {
   "name": "python",
   "version": "3.9.5 (default, Nov 23 2021, 15:27:38) \n[GCC 9.3.0]"
  },
  "orig_nbformat": 4,
  "vscode": {
   "interpreter": {
    "hash": "f9f85f796d01129d0dd105a088854619f454435301f6ffec2fea96ecbd9be4ac"
   }
  }
 },
 "nbformat": 4,
 "nbformat_minor": 2
}
